{
  "cells": [
    {
      "attachments": {},
      "cell_type": "markdown",
      "metadata": {
        "colab_type": "text",
        "id": "view-in-github"
      },
      "source": [
        "<a href=\"https://colab.research.google.com/github/kvnptl/pytorch-practice/blob/main/00_pytorch_fundamentals.ipynb\" target=\"_parent\"><img src=\"https://colab.research.google.com/assets/colab-badge.svg\" alt=\"Open In Colab\"/></a>"
      ]
    },
    {
      "attachments": {},
      "cell_type": "markdown",
      "metadata": {
        "id": "-Yt5Z1b35FkF"
      },
      "source": [
        "# Learn PyTorch by Coding \n",
        "\n",
        "[1] My Github repo: https://github.com/kvnptl/pytorch-practice\n",
        "\n",
        "[2] Reference Video: https://www.youtube.com/watch?v=Z_ikDlimN6A&t=83869s \n",
        "\n",
        "[3] Reference Book: https://www.learnpytorch.io/00_pytorch_fundamentals/#creating-tensors \n",
        "\n"
      ]
    },
    {
      "cell_type": "code",
      "execution_count": 1,
      "metadata": {
        "colab": {
          "base_uri": "https://localhost:8080/"
        },
        "id": "xv_hlMX-25rB",
        "outputId": "4c73bc0e-9257-4f76-9efc-5ab38635b32d"
      },
      "outputs": [
        {
          "name": "stdout",
          "output_type": "stream",
          "text": [
            "2.0.0+cu117\n"
          ]
        }
      ],
      "source": [
        "import torch\n",
        "import numpy as np\n",
        "print(torch.__version__)"
      ]
    },
    {
      "attachments": {},
      "cell_type": "markdown",
      "metadata": {
        "id": "Rxp89aIe5aC_"
      },
      "source": [
        "### Introduction to tensor\n",
        "\n",
        "Document - `torch.Tensor()` - https://pytorch.org/docs/stable/tensors.html"
      ]
    },
    {
      "attachments": {},
      "cell_type": "markdown",
      "metadata": {
        "id": "fVCmLtfM9TS7"
      },
      "source": [
        "### Variable naming convention\n",
        "\n",
        "- Keep scalar and vector in Lower case\n",
        "- Keep MATRIX and TENSOR in Upper case"
      ]
    },
    {
      "attachments": {},
      "cell_type": "markdown",
      "metadata": {
        "id": "Xaj-4F8v-JTk"
      },
      "source": [
        "##### Scalar"
      ]
    },
    {
      "cell_type": "code",
      "execution_count": 2,
      "metadata": {
        "colab": {
          "base_uri": "https://localhost:8080/"
        },
        "id": "dllAr7Cl3PP5",
        "outputId": "2d931aff-234d-472d-8416-c6acfa652591"
      },
      "outputs": [
        {
          "data": {
            "text/plain": [
              "tensor(7)"
            ]
          },
          "execution_count": 2,
          "metadata": {},
          "output_type": "execute_result"
        }
      ],
      "source": [
        "# scalar\n",
        "\n",
        "scalar = torch.tensor(7)\n",
        "scalar"
      ]
    },
    {
      "cell_type": "code",
      "execution_count": 3,
      "metadata": {
        "colab": {
          "base_uri": "https://localhost:8080/"
        },
        "id": "FKTRcW7-53xa",
        "outputId": "3e5e1fb8-46c2-4221-9d66-07dcdadc0b70"
      },
      "outputs": [
        {
          "data": {
            "text/plain": [
              "0"
            ]
          },
          "execution_count": 3,
          "metadata": {},
          "output_type": "execute_result"
        }
      ],
      "source": [
        "scalar.ndim"
      ]
    },
    {
      "cell_type": "code",
      "execution_count": 4,
      "metadata": {
        "colab": {
          "base_uri": "https://localhost:8080/"
        },
        "id": "uC383GqH6jlC",
        "outputId": "a2064479-b79e-4c52-e108-aadbb03a38d5"
      },
      "outputs": [
        {
          "data": {
            "text/plain": [
              "7"
            ]
          },
          "execution_count": 4,
          "metadata": {},
          "output_type": "execute_result"
        }
      ],
      "source": [
        "# Get tensor back as python int\n",
        "scalar.item()"
      ]
    },
    {
      "attachments": {},
      "cell_type": "markdown",
      "metadata": {
        "id": "NFgfgfWX-Qmw"
      },
      "source": [
        "##### Vector"
      ]
    },
    {
      "cell_type": "code",
      "execution_count": 14,
      "metadata": {
        "colab": {
          "base_uri": "https://localhost:8080/"
        },
        "id": "YCGmyYN46sxk",
        "outputId": "34e3a055-6474-4fdd-f57a-d544508cf45b"
      },
      "outputs": [
        {
          "data": {
            "text/plain": [
              "tensor([7, 7])"
            ]
          },
          "execution_count": 14,
          "metadata": {},
          "output_type": "execute_result"
        }
      ],
      "source": [
        "# vector\n",
        "vector =  torch.tensor([7,7])\n",
        "vector"
      ]
    },
    {
      "cell_type": "code",
      "execution_count": 15,
      "metadata": {
        "colab": {
          "base_uri": "https://localhost:8080/"
        },
        "id": "aX42tiA97J-w",
        "outputId": "3477277f-8fd9-4656-980b-bbe4fb7ebb73"
      },
      "outputs": [
        {
          "data": {
            "text/plain": [
              "1"
            ]
          },
          "execution_count": 15,
          "metadata": {},
          "output_type": "execute_result"
        }
      ],
      "source": [
        "vector.ndim # count number of [] brackets"
      ]
    },
    {
      "cell_type": "code",
      "execution_count": 16,
      "metadata": {},
      "outputs": [
        {
          "data": {
            "text/plain": [
              "(7, 7)"
            ]
          },
          "execution_count": 16,
          "metadata": {},
          "output_type": "execute_result"
        }
      ],
      "source": [
        "# vector.item() # error\n",
        "# so we can only get item from scalar\n",
        "# to get item from vector, we need to specify index\n",
        "vector[0].item(), vector[1].item()\n"
      ]
    },
    {
      "cell_type": "code",
      "execution_count": 17,
      "metadata": {
        "colab": {
          "base_uri": "https://localhost:8080/"
        },
        "id": "h1vrNthW7Mba",
        "outputId": "75683505-e40b-420b-b150-65920a0b79f1"
      },
      "outputs": [
        {
          "data": {
            "text/plain": [
              "torch.Size([2])"
            ]
          },
          "execution_count": 17,
          "metadata": {},
          "output_type": "execute_result"
        }
      ],
      "source": [
        "vector.shape"
      ]
    },
    {
      "attachments": {},
      "cell_type": "markdown",
      "metadata": {
        "id": "6ZoF9ZQX-TEY"
      },
      "source": [
        "##### MATRIX"
      ]
    },
    {
      "cell_type": "code",
      "execution_count": 22,
      "metadata": {
        "colab": {
          "base_uri": "https://localhost:8080/"
        },
        "id": "ucB5Db_k7SoX",
        "outputId": "329929a5-837c-4c5f-9a59-dd968ff237c3"
      },
      "outputs": [
        {
          "data": {
            "text/plain": [
              "tensor([[ 7,  8],\n",
              "        [ 9, 10]])"
            ]
          },
          "execution_count": 22,
          "metadata": {},
          "output_type": "execute_result"
        }
      ],
      "source": [
        "# MATRIX\n",
        "MATRIX = torch.tensor([[7,8],\n",
        "                      [9, 10]])\n",
        "MATRIX"
      ]
    },
    {
      "cell_type": "code",
      "execution_count": 23,
      "metadata": {},
      "outputs": [
        {
          "data": {
            "text/plain": [
              "tensor([[ 7,  8],\n",
              "        [ 9, 10]])"
            ]
          },
          "execution_count": 23,
          "metadata": {},
          "output_type": "execute_result"
        }
      ],
      "source": [
        "MATRIX = torch.tensor(([7,8],\n",
        "                       [9, 10])) # same as above\n",
        "MATRIX"
      ]
    },
    {
      "cell_type": "code",
      "execution_count": 24,
      "metadata": {
        "colab": {
          "base_uri": "https://localhost:8080/"
        },
        "id": "coZ6lsyq7miP",
        "outputId": "13f0245f-95a4-4259-bc34-2915c3371290"
      },
      "outputs": [
        {
          "data": {
            "text/plain": [
              "2"
            ]
          },
          "execution_count": 24,
          "metadata": {},
          "output_type": "execute_result"
        }
      ],
      "source": [
        "MATRIX.ndim"
      ]
    },
    {
      "cell_type": "code",
      "execution_count": 25,
      "metadata": {
        "colab": {
          "base_uri": "https://localhost:8080/"
        },
        "id": "XRWI-kxg7oOR",
        "outputId": "58be16b1-f543-4810-d61c-b30bf21d6ee6"
      },
      "outputs": [
        {
          "data": {
            "text/plain": [
              "torch.Size([2, 2])"
            ]
          },
          "execution_count": 25,
          "metadata": {},
          "output_type": "execute_result"
        }
      ],
      "source": [
        "MATRIX.shape"
      ]
    },
    {
      "cell_type": "code",
      "execution_count": 26,
      "metadata": {
        "colab": {
          "base_uri": "https://localhost:8080/"
        },
        "id": "4-dYpycr7qiu",
        "outputId": "da0d3c90-8219-43ee-f8cb-74e6a3564e4c"
      },
      "outputs": [
        {
          "data": {
            "text/plain": [
              "tensor([7, 8])"
            ]
          },
          "execution_count": 26,
          "metadata": {},
          "output_type": "execute_result"
        }
      ],
      "source": [
        "MATRIX[0] # 0th row"
      ]
    },
    {
      "attachments": {},
      "cell_type": "markdown",
      "metadata": {
        "id": "Oyzz_PpX-YPb"
      },
      "source": [
        "##### TENSOR"
      ]
    },
    {
      "cell_type": "code",
      "execution_count": 27,
      "metadata": {
        "colab": {
          "base_uri": "https://localhost:8080/"
        },
        "id": "2e1QfXjb7umw",
        "outputId": "0b767617-f4c7-47a7-a589-d3c2cb272153"
      },
      "outputs": [
        {
          "data": {
            "text/plain": [
              "tensor([[[1, 2, 3],\n",
              "         [4, 5, 6],\n",
              "         [7, 8, 9]]])"
            ]
          },
          "execution_count": 27,
          "metadata": {},
          "output_type": "execute_result"
        }
      ],
      "source": [
        "# TENSOR\n",
        "\n",
        "TENSOR = torch.tensor([[[1,2,3],\n",
        "                        [4,5,6],\n",
        "                        [7,8,9]]])\n",
        "TENSOR"
      ]
    },
    {
      "cell_type": "code",
      "execution_count": 28,
      "metadata": {
        "colab": {
          "base_uri": "https://localhost:8080/"
        },
        "id": "RkMEjtQG8D-7",
        "outputId": "5e130093-3c09-4bc9-a2b6-af3812c8ff6e"
      },
      "outputs": [
        {
          "data": {
            "text/plain": [
              "3"
            ]
          },
          "execution_count": 28,
          "metadata": {},
          "output_type": "execute_result"
        }
      ],
      "source": [
        "TENSOR.ndim"
      ]
    },
    {
      "cell_type": "code",
      "execution_count": 29,
      "metadata": {
        "colab": {
          "base_uri": "https://localhost:8080/"
        },
        "id": "_y-H4-uC8GzJ",
        "outputId": "dca2c718-70d3-44b1-c730-6864fc97e613"
      },
      "outputs": [
        {
          "data": {
            "text/plain": [
              "torch.Size([1, 3, 3])"
            ]
          },
          "execution_count": 29,
          "metadata": {},
          "output_type": "execute_result"
        }
      ],
      "source": [
        "TENSOR.shape"
      ]
    },
    {
      "cell_type": "code",
      "execution_count": 30,
      "metadata": {
        "colab": {
          "base_uri": "https://localhost:8080/"
        },
        "id": "P0KVfTNS8Me4",
        "outputId": "4ff620a9-73c6-4353-a553-33771dfff5ad"
      },
      "outputs": [
        {
          "data": {
            "text/plain": [
              "tensor([[1, 2, 3],\n",
              "        [4, 5, 6],\n",
              "        [7, 8, 9]])"
            ]
          },
          "execution_count": 30,
          "metadata": {},
          "output_type": "execute_result"
        }
      ],
      "source": [
        "TENSOR[0]"
      ]
    },
    {
      "cell_type": "code",
      "execution_count": 31,
      "metadata": {
        "colab": {
          "base_uri": "https://localhost:8080/"
        },
        "id": "53r8YsJ58VRK",
        "outputId": "7bd922e7-d472-4cad-b4a7-8995c552383c"
      },
      "outputs": [
        {
          "data": {
            "text/plain": [
              "tensor([4, 5, 6])"
            ]
          },
          "execution_count": 31,
          "metadata": {},
          "output_type": "execute_result"
        }
      ],
      "source": [
        "TENSOR[0][1]"
      ]
    },
    {
      "cell_type": "code",
      "execution_count": 32,
      "metadata": {
        "colab": {
          "base_uri": "https://localhost:8080/"
        },
        "id": "0cBO0K8W8zqo",
        "outputId": "3809787b-ff68-47ad-ad6d-346101cc156d"
      },
      "outputs": [
        {
          "data": {
            "text/plain": [
              "tensor(4)"
            ]
          },
          "execution_count": 32,
          "metadata": {},
          "output_type": "execute_result"
        }
      ],
      "source": [
        "TENSOR[0][1][0]"
      ]
    },
    {
      "attachments": {},
      "cell_type": "markdown",
      "metadata": {
        "id": "2Ez5RYIs-DHY"
      },
      "source": [
        "### RANDOM TENSORS"
      ]
    },
    {
      "cell_type": "code",
      "execution_count": 33,
      "metadata": {
        "colab": {
          "base_uri": "https://localhost:8080/"
        },
        "id": "ZToWDS249BE6",
        "outputId": "1cd58556-5ee5-4300-8626-ff4687d02d60"
      },
      "outputs": [
        {
          "data": {
            "text/plain": [
              "tensor([[0.9863, 0.9483, 0.8171, 0.1760],\n",
              "        [0.3822, 0.0307, 0.1323, 0.8867],\n",
              "        [0.6725, 0.9395, 0.3176, 0.3859]])"
            ]
          },
          "execution_count": 33,
          "metadata": {},
          "output_type": "execute_result"
        }
      ],
      "source": [
        "## RANDOM TENSORS\n",
        "\n",
        "random_tensor = torch.rand(3,4)\n",
        "random_tensor\n"
      ]
    },
    {
      "cell_type": "code",
      "execution_count": 34,
      "metadata": {
        "colab": {
          "base_uri": "https://localhost:8080/"
        },
        "id": "SEk0s7Pd-3bb",
        "outputId": "bd231a03-ef61-4a16-a859-2ac90bb1cbd7"
      },
      "outputs": [
        {
          "data": {
            "text/plain": [
              "2"
            ]
          },
          "execution_count": 34,
          "metadata": {},
          "output_type": "execute_result"
        }
      ],
      "source": [
        "random_tensor.ndim"
      ]
    },
    {
      "cell_type": "code",
      "execution_count": 35,
      "metadata": {
        "colab": {
          "base_uri": "https://localhost:8080/"
        },
        "id": "KlRZ-2fx_Abn",
        "outputId": "55a382ef-80d7-46d0-ed2c-5cb15d0ee4f2"
      },
      "outputs": [
        {
          "data": {
            "text/plain": [
              "tensor([[[0.9073, 0.6677, 0.3093, 0.4383],\n",
              "         [0.9294, 0.6889, 0.6757, 0.4167],\n",
              "         [0.5890, 0.2259, 0.9658, 0.8059]],\n",
              "\n",
              "        [[0.8557, 0.2646, 0.9752, 0.5649],\n",
              "         [0.8750, 0.2200, 0.6182, 0.0931],\n",
              "         [0.8606, 0.5282, 0.9698, 0.5010]],\n",
              "\n",
              "        [[0.6896, 0.8936, 0.0136, 0.2178],\n",
              "         [0.4003, 0.5598, 0.0052, 0.2609],\n",
              "         [0.7864, 0.7604, 0.3285, 0.1761]],\n",
              "\n",
              "        [[0.8932, 0.7973, 0.2822, 0.0992],\n",
              "         [0.8275, 0.1611, 0.3301, 0.7086],\n",
              "         [0.9297, 0.7612, 0.5483, 0.0597]],\n",
              "\n",
              "        [[0.2569, 0.1476, 0.2845, 0.5797],\n",
              "         [0.0949, 0.4013, 0.1127, 0.5339],\n",
              "         [0.9367, 0.2362, 0.6341, 0.3928]]])"
            ]
          },
          "execution_count": 35,
          "metadata": {},
          "output_type": "execute_result"
        }
      ],
      "source": [
        "random_tensor_2 = torch.rand(5, 3, 4)\n",
        "random_tensor_2"
      ]
    },
    {
      "cell_type": "code",
      "execution_count": 36,
      "metadata": {
        "colab": {
          "base_uri": "https://localhost:8080/"
        },
        "id": "j0F6Zlsz_L7S",
        "outputId": "a477f743-1289-4d81-8a25-93da1e62f829"
      },
      "outputs": [
        {
          "data": {
            "text/plain": [
              "3"
            ]
          },
          "execution_count": 36,
          "metadata": {},
          "output_type": "execute_result"
        }
      ],
      "source": [
        "random_tensor_2.ndim"
      ]
    },
    {
      "cell_type": "code",
      "execution_count": 37,
      "metadata": {
        "colab": {
          "base_uri": "https://localhost:8080/"
        },
        "id": "V037nNh6_OhH",
        "outputId": "4c7dc92a-03f9-4c14-d276-3fb2967787d1"
      },
      "outputs": [
        {
          "data": {
            "text/plain": [
              "(3, torch.Size([3, 224, 224]))"
            ]
          },
          "execution_count": 37,
          "metadata": {},
          "output_type": "execute_result"
        }
      ],
      "source": [
        "random_image_size_tensor = torch.rand(size=(3, 224,224)) # channel, height, width\n",
        "random_image_size_tensor.ndim, random_image_size_tensor.shape"
      ]
    },
    {
      "cell_type": "code",
      "execution_count": 38,
      "metadata": {
        "colab": {
          "base_uri": "https://localhost:8080/"
        },
        "id": "N8fCEOfx_jyJ",
        "outputId": "c0b38741-18ba-479a-aa0c-1c516ec78bea"
      },
      "outputs": [
        {
          "data": {
            "text/plain": [
              "(4, torch.Size([1, 1, 3, 3]))"
            ]
          },
          "execution_count": 38,
          "metadata": {},
          "output_type": "execute_result"
        }
      ],
      "source": [
        "random_tensor_3 = torch.rand(1,1,3,3)\n",
        "random_tensor_3.ndim, random_tensor_3.shape"
      ]
    },
    {
      "cell_type": "code",
      "execution_count": 39,
      "metadata": {
        "id": "sLphEIuGAa-b"
      },
      "outputs": [],
      "source": [
        "# zeros and ones\n",
        "\n",
        "zeros = torch.zeros(size=(3,4))\n",
        "ones = torch.ones(size=(3,4))"
      ]
    },
    {
      "cell_type": "code",
      "execution_count": 40,
      "metadata": {
        "colab": {
          "base_uri": "https://localhost:8080/"
        },
        "id": "p08SnBetAoaY",
        "outputId": "ec212461-2464-44c8-9372-656a56993861"
      },
      "outputs": [
        {
          "data": {
            "text/plain": [
              "torch.float32"
            ]
          },
          "execution_count": 40,
          "metadata": {},
          "output_type": "execute_result"
        }
      ],
      "source": [
        "ones.dtype # default is float 32"
      ]
    },
    {
      "attachments": {},
      "cell_type": "markdown",
      "metadata": {
        "id": "Xh7MQZHHBRUC"
      },
      "source": [
        "### Creating a range of tensors and tesnors-like"
      ]
    },
    {
      "cell_type": "code",
      "execution_count": 41,
      "metadata": {
        "colab": {
          "base_uri": "https://localhost:8080/"
        },
        "id": "FSznslNBA2Sm",
        "outputId": "7475843b-16b7-472e-f204-7d454aa62bdd"
      },
      "outputs": [
        {
          "data": {
            "text/plain": [
              "(1, torch.Size([20]))"
            ]
          },
          "execution_count": 41,
          "metadata": {},
          "output_type": "execute_result"
        }
      ],
      "source": [
        "a_range = torch.arange(start=0, end=1000, step=50)\n",
        "a_range.ndim, a_range.shape"
      ]
    },
    {
      "cell_type": "code",
      "execution_count": 43,
      "metadata": {
        "colab": {
          "base_uri": "https://localhost:8080/"
        },
        "id": "lUlzGLHXBNZC",
        "outputId": "58ef0173-f1c5-41c9-e526-f3ce04cae2c3"
      },
      "outputs": [
        {
          "data": {
            "text/plain": [
              "(tensor([0, 0, 0, 0, 0, 0, 0, 0, 0, 0, 0, 0, 0, 0, 0, 0, 0, 0, 0, 0]),\n",
              " 1,\n",
              " torch.Size([20]))"
            ]
          },
          "execution_count": 43,
          "metadata": {},
          "output_type": "execute_result"
        }
      ],
      "source": [
        "# creating tensors like \n",
        "# create a new tensor same as input tensor size\n",
        "\n",
        "alike = torch.zeros_like(input=a_range)\n",
        "alike, alike.ndim, alike.shape"
      ]
    },
    {
      "attachments": {},
      "cell_type": "markdown",
      "metadata": {
        "id": "Y9_W6aaKCukn"
      },
      "source": [
        "### TENSOR datatypes\n",
        "\n",
        "- float32 = single precision\n",
        "- float16 = half precision"
      ]
    },
    {
      "cell_type": "code",
      "execution_count": 44,
      "metadata": {
        "colab": {
          "base_uri": "https://localhost:8080/"
        },
        "id": "rSd4tYPBBH4l",
        "outputId": "092188bf-d1a9-4130-9cc7-f601f9e6ca32"
      },
      "outputs": [
        {
          "data": {
            "text/plain": [
              "torch.float32"
            ]
          },
          "execution_count": 44,
          "metadata": {},
          "output_type": "execute_result"
        }
      ],
      "source": [
        "float_32_tensor = torch.tensor([3.,6.,9.], dtype=None, device=None, requires_grad=False)\n",
        "float_32_tensor.dtype"
      ]
    },
    {
      "cell_type": "code",
      "execution_count": 45,
      "metadata": {
        "colab": {
          "base_uri": "https://localhost:8080/"
        },
        "id": "5523gmo7C8D4",
        "outputId": "9c73695d-47ee-4dff-b223-b88a2888f88e"
      },
      "outputs": [
        {
          "data": {
            "text/plain": [
              "torch.float16"
            ]
          },
          "execution_count": 45,
          "metadata": {},
          "output_type": "execute_result"
        }
      ],
      "source": [
        "float_16_tensor = torch.tensor([1,2,3], dtype=torch.float16) # or dtype=torch.half\n",
        "float_16_tensor.dtype"
      ]
    },
    {
      "cell_type": "code",
      "execution_count": 46,
      "metadata": {
        "colab": {
          "base_uri": "https://localhost:8080/"
        },
        "id": "o0_gjMSdFYlm",
        "outputId": "d62cd927-e322-4025-933d-41fbe0704934"
      },
      "outputs": [
        {
          "data": {
            "text/plain": [
              "torch.float32"
            ]
          },
          "execution_count": 46,
          "metadata": {},
          "output_type": "execute_result"
        }
      ],
      "source": [
        "tensor_mul = float_16_tensor*float_32_tensor # float 16 * float 32 = float 32\n",
        "tensor_mul.dtype"
      ]
    },
    {
      "attachments": {},
      "cell_type": "markdown",
      "metadata": {
        "id": "O4O6ByB_GeOZ"
      },
      "source": [
        "### Getting information from tensors"
      ]
    },
    {
      "cell_type": "code",
      "execution_count": 47,
      "metadata": {
        "colab": {
          "base_uri": "https://localhost:8080/"
        },
        "id": "2Y5SntSpFk3U",
        "outputId": "5ecc9faf-ab90-4d3c-a79c-ce2785e05f3b"
      },
      "outputs": [
        {
          "data": {
            "text/plain": [
              "tensor([[0.2174, 0.3230, 0.7045, 0.2350, 0.9673],\n",
              "        [0.6630, 0.3828, 0.4124, 0.8539, 0.4230],\n",
              "        [0.9057, 0.6698, 0.3509, 0.8663, 0.5910]], dtype=torch.float64)"
            ]
          },
          "execution_count": 47,
          "metadata": {},
          "output_type": "execute_result"
        }
      ],
      "source": [
        "some_tensor = torch.rand(3,5, dtype=torch.float64)\n",
        "some_tensor"
      ]
    },
    {
      "cell_type": "code",
      "execution_count": 48,
      "metadata": {
        "colab": {
          "base_uri": "https://localhost:8080/"
        },
        "id": "bV4USU9hGra7",
        "outputId": "6180fec1-fb07-486d-a37c-959067551929"
      },
      "outputs": [
        {
          "name": "stdout",
          "output_type": "stream",
          "text": [
            "tensor([[0.2174, 0.3230, 0.7045, 0.2350, 0.9673],\n",
            "        [0.6630, 0.3828, 0.4124, 0.8539, 0.4230],\n",
            "        [0.9057, 0.6698, 0.3509, 0.8663, 0.5910]], dtype=torch.float64)\n",
            "Datatype of tensor: torch.float64\n",
            "Shpae of tensor: torch.Size([3, 5])\n",
            "Device of tensor: cpu\n"
          ]
        }
      ],
      "source": [
        "print(some_tensor)\n",
        "print(f\"Datatype of tensor: {some_tensor.dtype}\")\n",
        "print(f\"Shpae of tensor: {some_tensor.shape}\")\n",
        "print(f\"Device of tensor: {some_tensor.device}\")"
      ]
    },
    {
      "attachments": {},
      "cell_type": "markdown",
      "metadata": {
        "id": "rk4-xjVNHiUL"
      },
      "source": [
        "### Manipulating tensors\n",
        "\n",
        "These operations are often a wonderful dance between:\n",
        "\n",
        "- Addition\n",
        "- Substraction\n",
        "- Multiplication (element-wise)\n",
        "- Division\n",
        "- Matrix multiplication"
      ]
    },
    {
      "cell_type": "code",
      "execution_count": 49,
      "metadata": {
        "colab": {
          "base_uri": "https://localhost:8080/"
        },
        "id": "MpS_6t0xHCan",
        "outputId": "85a38db6-fac9-4e89-8b59-150a985ded52"
      },
      "outputs": [
        {
          "data": {
            "text/plain": [
              "tensor([11, 12, 13])"
            ]
          },
          "execution_count": 49,
          "metadata": {},
          "output_type": "execute_result"
        }
      ],
      "source": [
        "tensor = torch.tensor([1,2,3])\n",
        "tensor + 10"
      ]
    },
    {
      "cell_type": "code",
      "execution_count": 50,
      "metadata": {
        "colab": {
          "base_uri": "https://localhost:8080/"
        },
        "id": "Q4u5Z9gyID8E",
        "outputId": "a7203770-49c3-41f7-8207-13b2af1e7413"
      },
      "outputs": [
        {
          "name": "stdout",
          "output_type": "stream",
          "text": [
            "CPU times: user 757 µs, sys: 311 µs, total: 1.07 ms\n",
            "Wall time: 688 µs\n"
          ]
        },
        {
          "data": {
            "text/plain": [
              "tensor([10, 20, 30])"
            ]
          },
          "execution_count": 50,
          "metadata": {},
          "output_type": "execute_result"
        }
      ],
      "source": [
        "%%time\n",
        "tensor * 10"
      ]
    },
    {
      "cell_type": "code",
      "execution_count": 51,
      "metadata": {
        "colab": {
          "base_uri": "https://localhost:8080/"
        },
        "id": "SJYfJBQyWQL1",
        "outputId": "a4449d84-6447-40ed-8a76-aa8693caad8a"
      },
      "outputs": [
        {
          "name": "stdout",
          "output_type": "stream",
          "text": [
            "CPU times: user 1.02 ms, sys: 0 ns, total: 1.02 ms\n",
            "Wall time: 901 µs\n"
          ]
        },
        {
          "data": {
            "text/plain": [
              "tensor([10, 20, 30])"
            ]
          },
          "execution_count": 51,
          "metadata": {},
          "output_type": "execute_result"
        }
      ],
      "source": [
        "%%time\n",
        "torch.mul(tensor, 10)"
      ]
    },
    {
      "cell_type": "code",
      "execution_count": 52,
      "metadata": {
        "colab": {
          "base_uri": "https://localhost:8080/"
        },
        "id": "_gyTm3d_IP6f",
        "outputId": "98d9ea80-bfdf-4971-f198-4b9bfe11b1f0"
      },
      "outputs": [
        {
          "data": {
            "text/plain": [
              "tensor([-4, -3, -2])"
            ]
          },
          "execution_count": 52,
          "metadata": {},
          "output_type": "execute_result"
        }
      ],
      "source": [
        "tensor - 5"
      ]
    },
    {
      "cell_type": "code",
      "execution_count": 53,
      "metadata": {
        "colab": {
          "base_uri": "https://localhost:8080/"
        },
        "id": "ikxD8kO6TdhT",
        "outputId": "7826b150-89ee-4c7f-f3d6-febc1cb55bff"
      },
      "outputs": [
        {
          "data": {
            "text/plain": [
              "tensor([10, 20, 30])"
            ]
          },
          "execution_count": 53,
          "metadata": {},
          "output_type": "execute_result"
        }
      ],
      "source": [
        "torch.mul(tensor, 10)"
      ]
    },
    {
      "cell_type": "code",
      "execution_count": 54,
      "metadata": {
        "colab": {
          "base_uri": "https://localhost:8080/"
        },
        "id": "hVsyKDnsTiaL",
        "outputId": "859b8758-3d2e-4844-b4cf-4eacd21d7278"
      },
      "outputs": [
        {
          "data": {
            "text/plain": [
              "tensor([4, 5, 6])"
            ]
          },
          "execution_count": 54,
          "metadata": {},
          "output_type": "execute_result"
        }
      ],
      "source": [
        "torch.add(tensor, 3)"
      ]
    },
    {
      "cell_type": "code",
      "execution_count": 57,
      "metadata": {
        "colab": {
          "base_uri": "https://localhost:8080/"
        },
        "id": "gBLgwL8lTsGv",
        "outputId": "780e1faa-30f3-4e65-8560-2ea6a2760688"
      },
      "outputs": [
        {
          "data": {
            "text/plain": [
              "tensor([1, 4, 9])"
            ]
          },
          "execution_count": 57,
          "metadata": {},
          "output_type": "execute_result"
        }
      ],
      "source": [
        "# Matrix multiplication\n",
        "\n",
        "tensor * tensor # element wise multiplication"
      ]
    },
    {
      "cell_type": "code",
      "execution_count": 59,
      "metadata": {
        "colab": {
          "base_uri": "https://localhost:8080/"
        },
        "id": "pOBdAqTnUdRd",
        "outputId": "e1fb1112-c0c6-4f1c-ee4f-24484bd76e75"
      },
      "outputs": [
        {
          "data": {
            "text/plain": [
              "tensor(14)"
            ]
          },
          "execution_count": 59,
          "metadata": {},
          "output_type": "execute_result"
        }
      ],
      "source": [
        "torch.matmul(tensor, tensor) # matrix multiplication (dot product)"
      ]
    },
    {
      "cell_type": "code",
      "execution_count": 68,
      "metadata": {
        "colab": {
          "base_uri": "https://localhost:8080/"
        },
        "id": "cdWAls-JUmFw",
        "outputId": "97f05523-a0a7-43e1-dd65-7f15cdacac78"
      },
      "outputs": [
        {
          "name": "stdout",
          "output_type": "stream",
          "text": [
            "tensor(14)\n",
            "CPU times: user 1.03 ms, sys: 417 µs, total: 1.45 ms\n",
            "Wall time: 906 µs\n"
          ]
        }
      ],
      "source": [
        "%%time\n",
        "# Withouth torch.matmul\n",
        "\n",
        "val = 0\n",
        "for i in range(len(tensor)):\n",
        "  val += tensor[i] * tensor[i] \n",
        "print(val) "
      ]
    },
    {
      "cell_type": "code",
      "execution_count": 69,
      "metadata": {
        "colab": {
          "base_uri": "https://localhost:8080/"
        },
        "id": "xAQhZMOEVLfL",
        "outputId": "d6b0468e-e545-4ff8-f8f4-33b50686ada1"
      },
      "outputs": [
        {
          "name": "stdout",
          "output_type": "stream",
          "text": [
            "CPU times: user 320 µs, sys: 129 µs, total: 449 µs\n",
            "Wall time: 317 µs\n"
          ]
        },
        {
          "data": {
            "text/plain": [
              "tensor(14)"
            ]
          },
          "execution_count": 69,
          "metadata": {},
          "output_type": "execute_result"
        }
      ],
      "source": [
        "%%time\n",
        "# With Pytorch matmul\n",
        "\n",
        "torch.matmul(tensor, tensor) # faster"
      ]
    },
    {
      "cell_type": "code",
      "execution_count": 70,
      "metadata": {
        "colab": {
          "base_uri": "https://localhost:8080/"
        },
        "id": "BvVJmR07VvVu",
        "outputId": "e8975b5c-c971-4c1a-ef2f-80f988e37e08"
      },
      "outputs": [
        {
          "data": {
            "text/plain": [
              "tensor([[1.0657, 1.0778, 0.9774],\n",
              "        [0.8047, 0.7566, 1.1038],\n",
              "        [1.1126, 0.9135, 1.1990]])"
            ]
          },
          "execution_count": 70,
          "metadata": {},
          "output_type": "execute_result"
        }
      ],
      "source": [
        "tensorA = torch.rand(size=(3,4))\n",
        "tensorB = torch.rand(size=(4,3))\n",
        "torch.matmul(tensorA, tensorB)"
      ]
    },
    {
      "cell_type": "code",
      "execution_count": 72,
      "metadata": {
        "colab": {
          "base_uri": "https://localhost:8080/"
        },
        "id": "F76wgVL1XSd4",
        "outputId": "9817a3d9-50f5-42e7-ac99-9fd5950a11ac"
      },
      "outputs": [
        {
          "data": {
            "text/plain": [
              "tensor([0, 1, 2, 3, 4, 5, 6, 7, 8, 9])"
            ]
          },
          "execution_count": 72,
          "metadata": {},
          "output_type": "execute_result"
        }
      ],
      "source": [
        "# find min, max, sum (tensor aggregation)\n",
        "\n",
        "x = torch.arange(0,10)\n",
        "x"
      ]
    },
    {
      "cell_type": "code",
      "execution_count": 73,
      "metadata": {
        "colab": {
          "base_uri": "https://localhost:8080/"
        },
        "id": "ZHb2jAPxYF7g",
        "outputId": "ec0052b0-7fc9-4c45-ea40-9d4e32686f56"
      },
      "outputs": [
        {
          "data": {
            "text/plain": [
              "tensor(0)"
            ]
          },
          "execution_count": 73,
          "metadata": {},
          "output_type": "execute_result"
        }
      ],
      "source": [
        "torch.min(x)"
      ]
    },
    {
      "cell_type": "code",
      "execution_count": 74,
      "metadata": {
        "colab": {
          "base_uri": "https://localhost:8080/"
        },
        "id": "MX2vPBXSYIXk",
        "outputId": "9cde49f3-3ba7-493c-88bc-42a902e738fa"
      },
      "outputs": [
        {
          "data": {
            "text/plain": [
              "tensor(9)"
            ]
          },
          "execution_count": 74,
          "metadata": {},
          "output_type": "execute_result"
        }
      ],
      "source": [
        "torch.max(x)"
      ]
    },
    {
      "cell_type": "code",
      "execution_count": 75,
      "metadata": {
        "colab": {
          "base_uri": "https://localhost:8080/"
        },
        "id": "Nbe7jRkDYLw8",
        "outputId": "15eb26a5-11b4-4943-b335-3466a8aa8710"
      },
      "outputs": [
        {
          "data": {
            "text/plain": [
              "tensor(45)"
            ]
          },
          "execution_count": 75,
          "metadata": {},
          "output_type": "execute_result"
        }
      ],
      "source": [
        "torch.sum(x)"
      ]
    },
    {
      "cell_type": "code",
      "execution_count": 76,
      "metadata": {
        "colab": {
          "base_uri": "https://localhost:8080/"
        },
        "id": "GfgkrELpYNT2",
        "outputId": "46c4920c-1db9-4a10-e62c-ae3d44390bd5"
      },
      "outputs": [
        {
          "data": {
            "text/plain": [
              "tensor(4.5000)"
            ]
          },
          "execution_count": 76,
          "metadata": {},
          "output_type": "execute_result"
        }
      ],
      "source": [
        "torch.mean(x.type(torch.float32))"
      ]
    },
    {
      "attachments": {},
      "cell_type": "markdown",
      "metadata": {
        "id": "QaAyedt5YiMo"
      },
      "source": [
        "### Reshaping, stacking, squeezing, and unsqueezing tensors"
      ]
    },
    {
      "cell_type": "code",
      "execution_count": 80,
      "metadata": {
        "colab": {
          "base_uri": "https://localhost:8080/"
        },
        "id": "fat7meI7ayWq",
        "outputId": "71f8473c-b5c7-45eb-97a5-e5f8663f0e53"
      },
      "outputs": [
        {
          "data": {
            "text/plain": [
              "(tensor([1., 2., 3., 4., 5., 6., 7., 8., 9.]), torch.Size([9]), 1)"
            ]
          },
          "execution_count": 80,
          "metadata": {},
          "output_type": "execute_result"
        }
      ],
      "source": [
        "x = torch.arange(1., 10)\n",
        "x, x.shape, x.ndim"
      ]
    },
    {
      "cell_type": "code",
      "execution_count": 81,
      "metadata": {
        "colab": {
          "base_uri": "https://localhost:8080/"
        },
        "id": "C7mZD0-gZR0n",
        "outputId": "3d0e6d11-e433-4859-a0d1-f94b341594e7"
      },
      "outputs": [
        {
          "data": {
            "text/plain": [
              "(tensor([[1., 2., 3., 4., 5., 6., 7., 8., 9.]]), torch.Size([1, 9]), 2)"
            ]
          },
          "execution_count": 81,
          "metadata": {},
          "output_type": "execute_result"
        }
      ],
      "source": [
        "# add extra dimension\n",
        "\n",
        "x_reshaped = x.reshape(1,9)\n",
        "x_reshaped, x_reshaped.shape, x_reshaped.ndim"
      ]
    },
    {
      "cell_type": "code",
      "execution_count": 82,
      "metadata": {
        "colab": {
          "base_uri": "https://localhost:8080/"
        },
        "id": "Qnf56357ZYoX",
        "outputId": "cff4a00e-5078-44bb-fbc4-c16364a26a8b"
      },
      "outputs": [
        {
          "data": {
            "text/plain": [
              "(tensor([[1.],\n",
              "         [2.],\n",
              "         [3.],\n",
              "         [4.],\n",
              "         [5.],\n",
              "         [6.],\n",
              "         [7.],\n",
              "         [8.],\n",
              "         [9.]]),\n",
              " torch.Size([9, 1]),\n",
              " 2)"
            ]
          },
          "execution_count": 82,
          "metadata": {},
          "output_type": "execute_result"
        }
      ],
      "source": [
        "# add extra dimention\n",
        "\n",
        "x_reshaped = x.reshape(9,1)\n",
        "x_reshaped, x_reshaped.shape, x_reshaped.ndim"
      ]
    },
    {
      "cell_type": "code",
      "execution_count": 84,
      "metadata": {
        "colab": {
          "base_uri": "https://localhost:8080/"
        },
        "id": "IrsvlWOyZrSH",
        "outputId": "539e9ec4-f7f3-490c-e1bd-98a45f216861"
      },
      "outputs": [
        {
          "data": {
            "text/plain": [
              "(tensor([[1., 2., 3., 4., 5., 6., 7., 8., 9.]]), torch.Size([1, 9]))"
            ]
          },
          "execution_count": 84,
          "metadata": {},
          "output_type": "execute_result"
        }
      ],
      "source": [
        "# change the view of tensor\n",
        "\n",
        "z = x.view(1, 9) # same as reshape\n",
        "z, z.shape\n",
        "\n",
        "# NOTE: The difference between reshape and view is that view is only applicable to contiguous tensors (tensors in memory order) and it will return an error if the operation copies data.\n",
        "# if you have a non-contiguous tensor, you need to call contiguous() before you can call view().\n",
        "# Or better use reshape()"
      ]
    },
    {
      "cell_type": "code",
      "execution_count": 85,
      "metadata": {
        "colab": {
          "base_uri": "https://localhost:8080/"
        },
        "id": "5pvZNiIDaLRE",
        "outputId": "3668d5aa-cdbd-4157-b6d0-6fc69188ce4d"
      },
      "outputs": [
        {
          "data": {
            "text/plain": [
              "tensor([5., 2., 3., 4., 5., 6., 7., 8., 9.])"
            ]
          },
          "execution_count": 85,
          "metadata": {},
          "output_type": "execute_result"
        }
      ],
      "source": [
        "# changing z changes x (because they share the same memory)\n",
        "\n",
        "z[:, 0] = 5\n",
        "x"
      ]
    },
    {
      "cell_type": "code",
      "execution_count": 86,
      "metadata": {
        "colab": {
          "base_uri": "https://localhost:8080/"
        },
        "id": "DmMPyF-raYwU",
        "outputId": "4d8899cb-70ac-4a21-dc2c-ada135fad9e1"
      },
      "outputs": [
        {
          "data": {
            "text/plain": [
              "(tensor([[5., 2., 3., 4., 5., 6., 7., 8., 9.],\n",
              "         [5., 2., 3., 4., 5., 6., 7., 8., 9.],\n",
              "         [5., 2., 3., 4., 5., 6., 7., 8., 9.],\n",
              "         [5., 2., 3., 4., 5., 6., 7., 8., 9.]]),\n",
              " torch.Size([4, 9]),\n",
              " 2)"
            ]
          },
          "execution_count": 86,
          "metadata": {},
          "output_type": "execute_result"
        }
      ],
      "source": [
        "# stacking at dimension 0 (row wise)\n",
        "\n",
        "x_stacked = torch.stack([x,x,x,x], dim=0)\n",
        "x_stacked, x_stacked.shape, x_stacked.ndim\n"
      ]
    },
    {
      "cell_type": "code",
      "execution_count": 87,
      "metadata": {},
      "outputs": [
        {
          "data": {
            "text/plain": [
              "(tensor([[5., 5., 5., 5.],\n",
              "         [2., 2., 2., 2.],\n",
              "         [3., 3., 3., 3.],\n",
              "         [4., 4., 4., 4.],\n",
              "         [5., 5., 5., 5.],\n",
              "         [6., 6., 6., 6.],\n",
              "         [7., 7., 7., 7.],\n",
              "         [8., 8., 8., 8.],\n",
              "         [9., 9., 9., 9.]]),\n",
              " torch.Size([9, 4]),\n",
              " 2)"
            ]
          },
          "execution_count": 87,
          "metadata": {},
          "output_type": "execute_result"
        }
      ],
      "source": [
        "# stacking at dimension 1 (column wise)\n",
        "\n",
        "x_stacked = torch.stack([x,x,x,x], dim=1)\n",
        "x_stacked, x_stacked.shape, x_stacked.ndim"
      ]
    },
    {
      "cell_type": "code",
      "execution_count": 88,
      "metadata": {
        "colab": {
          "base_uri": "https://localhost:8080/"
        },
        "id": "2yelnEo6a_zD",
        "outputId": "2a3c2194-1e1e-4985-f3ad-7cdd4638be1e"
      },
      "outputs": [
        {
          "data": {
            "text/plain": [
              "(tensor([[5., 2., 3., 4., 5., 6., 7., 8., 9.],\n",
              "         [5., 2., 3., 4., 5., 6., 7., 8., 9.],\n",
              "         [5., 2., 3., 4., 5., 6., 7., 8., 9.],\n",
              "         [5., 2., 3., 4., 5., 6., 7., 8., 9.]]),\n",
              " torch.Size([4, 9]),\n",
              " 2)"
            ]
          },
          "execution_count": 88,
          "metadata": {},
          "output_type": "execute_result"
        }
      ],
      "source": [
        "x_vstack = torch.vstack([x,x,x,x]) # same as stack with dim=0\n",
        "x_vstack, x_vstack.shape, x_vstack.ndim"
      ]
    },
    {
      "cell_type": "code",
      "execution_count": 89,
      "metadata": {
        "colab": {
          "base_uri": "https://localhost:8080/"
        },
        "id": "51TG2oT3bj9s",
        "outputId": "f4b84f3e-1f17-414a-c7f2-baec7f9aac7d"
      },
      "outputs": [
        {
          "data": {
            "text/plain": [
              "(tensor([[5., 5., 5., 5.],\n",
              "         [2., 2., 2., 2.],\n",
              "         [3., 3., 3., 3.],\n",
              "         [4., 4., 4., 4.],\n",
              "         [5., 5., 5., 5.],\n",
              "         [6., 6., 6., 6.],\n",
              "         [7., 7., 7., 7.],\n",
              "         [8., 8., 8., 8.],\n",
              "         [9., 9., 9., 9.]]),\n",
              " torch.Size([9, 4]),\n",
              " 2)"
            ]
          },
          "execution_count": 89,
          "metadata": {},
          "output_type": "execute_result"
        }
      ],
      "source": [
        "x_hstack = torch.hstack([x_reshaped, x_reshaped, x_reshaped, x_reshaped]) # same as stack with dim=1\n",
        "x_hstack, x_hstack.shape, x_hstack.ndim"
      ]
    },
    {
      "cell_type": "code",
      "execution_count": 94,
      "metadata": {
        "colab": {
          "base_uri": "https://localhost:8080/"
        },
        "id": "bGiyreLRb3Px",
        "outputId": "ea8d7679-5f65-4ed1-f16e-d1f02ade6273"
      },
      "outputs": [
        {
          "data": {
            "text/plain": [
              "torch.Size([1, 9])"
            ]
          },
          "execution_count": 94,
          "metadata": {},
          "output_type": "execute_result"
        }
      ],
      "source": [
        "# squeeze removes all single dimensions from the tensor\n",
        "# it does not matter where the single dimension is\n",
        "\n",
        "x_reshaped.shape"
      ]
    },
    {
      "cell_type": "code",
      "execution_count": 95,
      "metadata": {
        "colab": {
          "base_uri": "https://localhost:8080/"
        },
        "id": "cUWlPOG1c5CQ",
        "outputId": "a908239c-e984-43f8-c381-1d48b2908657"
      },
      "outputs": [
        {
          "data": {
            "text/plain": [
              "(tensor([5., 2., 3., 4., 5., 6., 7., 8., 9.]), torch.Size([9]), 1)"
            ]
          },
          "execution_count": 95,
          "metadata": {},
          "output_type": "execute_result"
        }
      ],
      "source": [
        "x_squeexed = x_reshaped.squeeze()\n",
        "x_squeexed, x_squeexed.shape, x_squeexed.ndim"
      ]
    },
    {
      "cell_type": "code",
      "execution_count": 97,
      "metadata": {
        "colab": {
          "base_uri": "https://localhost:8080/"
        },
        "id": "8CE7XvEmc-WF",
        "outputId": "26f53f34-e259-4259-dfd0-7be05902ce93"
      },
      "outputs": [
        {
          "data": {
            "text/plain": [
              "(tensor([[5., 2., 3., 4., 5., 6., 7., 8., 9.]]), torch.Size([1, 9]), 2)"
            ]
          },
          "execution_count": 97,
          "metadata": {},
          "output_type": "execute_result"
        }
      ],
      "source": [
        "# unsqueez adds a single dimension to a target tensor at a specific dimension\n",
        "\n",
        "x_unsqueezed = x_squeexed.unsqueeze(dim=0)\n",
        "x_unsqueezed, x_unsqueezed.shape, x_unsqueezed.ndim\n"
      ]
    },
    {
      "cell_type": "code",
      "execution_count": 98,
      "metadata": {
        "colab": {
          "base_uri": "https://localhost:8080/"
        },
        "id": "usPEndvUeEq8",
        "outputId": "f7de1ee3-aebe-4047-d429-5bc0be5a9e73"
      },
      "outputs": [
        {
          "data": {
            "text/plain": [
              "(tensor([[5.],\n",
              "         [2.],\n",
              "         [3.],\n",
              "         [4.],\n",
              "         [5.],\n",
              "         [6.],\n",
              "         [7.],\n",
              "         [8.],\n",
              "         [9.]]),\n",
              " torch.Size([9, 1]),\n",
              " 2)"
            ]
          },
          "execution_count": 98,
          "metadata": {},
          "output_type": "execute_result"
        }
      ],
      "source": [
        "x_unsqueezed = x_squeexed.unsqueeze(dim=1)\n",
        "x_unsqueezed, x_unsqueezed.shape, x_unsqueezed.ndim"
      ]
    },
    {
      "cell_type": "code",
      "execution_count": 99,
      "metadata": {
        "colab": {
          "base_uri": "https://localhost:8080/"
        },
        "id": "7-usBn7GeHSw",
        "outputId": "02bd08ea-675a-4a64-fc86-ac747cb6338e"
      },
      "outputs": [
        {
          "name": "stdout",
          "output_type": "stream",
          "text": [
            "x_original shape: torch.Size([3, 224, 244])\n",
            "x_permuted shape: torch.Size([224, 244, 3])\n"
          ]
        }
      ],
      "source": [
        "# permute - rearranges the dimensions in a specific order\n",
        "# REMEMBER: permute changes the same tensor in the memory location, be careful!!! \n",
        "\n",
        "x_original = torch.rand(size=(3, 224, 244))\n",
        "print(f\"x_original shape: {x_original.shape}\")\n",
        "\n",
        "x_permuted = x_original.permute(dims=(1,2,0))\n",
        "print(f\"x_permuted shape: {x_permuted.shape}\")"
      ]
    },
    {
      "cell_type": "code",
      "execution_count": 100,
      "metadata": {
        "colab": {
          "base_uri": "https://localhost:8080/"
        },
        "id": "RGUlqMhye0M0",
        "outputId": "80f89a10-d837-4959-8e85-575092a8b899"
      },
      "outputs": [
        {
          "name": "stdout",
          "output_type": "stream",
          "text": [
            "x_og and shape: tensor([[[0., 0., 0., 0.],\n",
            "         [0., 0., 0., 0.]]]), torch.Size([1, 2, 4])\n",
            "x_perm and shape: tensor([[[0.],\n",
            "         [0.]],\n",
            "\n",
            "        [[0.],\n",
            "         [0.]],\n",
            "\n",
            "        [[0.],\n",
            "         [0.]],\n",
            "\n",
            "        [[0.],\n",
            "         [0.]]]), torch.Size([4, 2, 1])\n"
          ]
        },
        {
          "data": {
            "text/plain": [
              "tensor([[[5., 0., 0., 0.],\n",
              "         [0., 0., 0., 0.]]])"
            ]
          },
          "execution_count": 100,
          "metadata": {},
          "output_type": "execute_result"
        }
      ],
      "source": [
        "x_og = torch.zeros(size=(1, 2, 4))\n",
        "print(f\"x_og and shape: {x_og}, {x_og.shape}\")\n",
        "x_perm = x_og.permute(dims=(2, 1, 0))\n",
        "print(f\"x_perm and shape: {x_perm}, {x_perm.shape}\")\n",
        "x_perm[0][0][0] = 5\n",
        "x_og\n",
        "\n"
      ]
    },
    {
      "attachments": {},
      "cell_type": "markdown",
      "metadata": {
        "id": "i504uCM2g3JM"
      },
      "source": [
        "### Indexing"
      ]
    },
    {
      "cell_type": "code",
      "execution_count": 101,
      "metadata": {
        "colab": {
          "base_uri": "https://localhost:8080/"
        },
        "id": "1crNR297gCGd",
        "outputId": "d56830a8-d847-400c-85ef-2a8f2a166122"
      },
      "outputs": [
        {
          "data": {
            "text/plain": [
              "(tensor([[[1, 2, 3],\n",
              "          [4, 5, 6],\n",
              "          [7, 8, 9]]]),\n",
              " torch.Size([1, 3, 3]),\n",
              " 3)"
            ]
          },
          "execution_count": 101,
          "metadata": {},
          "output_type": "execute_result"
        }
      ],
      "source": [
        "## Indexing \n",
        "\n",
        "x = torch.arange(1, 10).reshape(1,3,3)\n",
        "x, x.shape, x.ndim\n"
      ]
    },
    {
      "cell_type": "code",
      "execution_count": 103,
      "metadata": {
        "colab": {
          "base_uri": "https://localhost:8080/"
        },
        "id": "WG7EHb2JhBed",
        "outputId": "64c379b8-c535-4d2c-aa95-f73e5ed2c758"
      },
      "outputs": [
        {
          "data": {
            "text/plain": [
              "(tensor([[1, 2, 3],\n",
              "         [4, 5, 6],\n",
              "         [7, 8, 9]]),\n",
              " torch.Size([3, 3]),\n",
              " 2)"
            ]
          },
          "execution_count": 103,
          "metadata": {},
          "output_type": "execute_result"
        }
      ],
      "source": [
        "x[0], x[0].shape, x[0].ndim"
      ]
    },
    {
      "cell_type": "code",
      "execution_count": 104,
      "metadata": {
        "colab": {
          "base_uri": "https://localhost:8080/"
        },
        "id": "3L5JXb8OhKdO",
        "outputId": "6cb57b11-c322-407e-eedb-53f775f31359"
      },
      "outputs": [
        {
          "data": {
            "text/plain": [
              "tensor([1, 2, 3])"
            ]
          },
          "execution_count": 104,
          "metadata": {},
          "output_type": "execute_result"
        }
      ],
      "source": [
        "x[0][0]"
      ]
    },
    {
      "cell_type": "code",
      "execution_count": 105,
      "metadata": {
        "colab": {
          "base_uri": "https://localhost:8080/"
        },
        "id": "VdrOOV7uhMNx",
        "outputId": "3bddb04f-02c4-486a-c599-09a0bfa001f6"
      },
      "outputs": [
        {
          "data": {
            "text/plain": [
              "tensor(1)"
            ]
          },
          "execution_count": 105,
          "metadata": {},
          "output_type": "execute_result"
        }
      ],
      "source": [
        "x[0][0][0]"
      ]
    },
    {
      "cell_type": "code",
      "execution_count": 106,
      "metadata": {
        "colab": {
          "base_uri": "https://localhost:8080/"
        },
        "id": "WMS3h8oxhUlW",
        "outputId": "8af6acd1-7a17-46cd-b5c2-04b5bbc3c334"
      },
      "outputs": [
        {
          "data": {
            "text/plain": [
              "1"
            ]
          },
          "execution_count": 106,
          "metadata": {},
          "output_type": "execute_result"
        }
      ],
      "source": [
        "x[0][0][0].item()"
      ]
    },
    {
      "cell_type": "code",
      "execution_count": 107,
      "metadata": {
        "colab": {
          "base_uri": "https://localhost:8080/"
        },
        "id": "_5LjvmZxhXBE",
        "outputId": "526f3b26-8d79-436d-8bed-f45587f051a8"
      },
      "outputs": [
        {
          "data": {
            "text/plain": [
              "9"
            ]
          },
          "execution_count": 107,
          "metadata": {},
          "output_type": "execute_result"
        }
      ],
      "source": [
        "x[0][2][2].item()"
      ]
    },
    {
      "cell_type": "code",
      "execution_count": 110,
      "metadata": {
        "colab": {
          "base_uri": "https://localhost:8080/"
        },
        "id": "hnsWCjIMhqRE",
        "outputId": "7f6394a6-9b7f-48fe-a186-387b6cc02ca4"
      },
      "outputs": [
        {
          "data": {
            "text/plain": [
              "tensor([[1, 2, 3]])"
            ]
          },
          "execution_count": 110,
          "metadata": {},
          "output_type": "execute_result"
        }
      ],
      "source": [
        "x[:, 0]"
      ]
    },
    {
      "cell_type": "code",
      "execution_count": 111,
      "metadata": {
        "colab": {
          "base_uri": "https://localhost:8080/"
        },
        "id": "RsUI5NB0h5gc",
        "outputId": "25fdc45c-eac1-4ca6-f2d9-42a263d2a0d2"
      },
      "outputs": [
        {
          "data": {
            "text/plain": [
              "tensor([[2, 5, 8]])"
            ]
          },
          "execution_count": 111,
          "metadata": {},
          "output_type": "execute_result"
        }
      ],
      "source": [
        "x[:,:,1]"
      ]
    },
    {
      "cell_type": "code",
      "execution_count": 112,
      "metadata": {
        "colab": {
          "base_uri": "https://localhost:8080/"
        },
        "id": "RRC6_fnLiDvi",
        "outputId": "7784a61e-0d1f-4b9a-ea74-aa5459c3a539"
      },
      "outputs": [
        {
          "data": {
            "text/plain": [
              "tensor([5])"
            ]
          },
          "execution_count": 112,
          "metadata": {},
          "output_type": "execute_result"
        }
      ],
      "source": [
        "x[:, 1, 1]"
      ]
    },
    {
      "cell_type": "code",
      "execution_count": 113,
      "metadata": {
        "colab": {
          "base_uri": "https://localhost:8080/"
        },
        "id": "4zGE8l4RieEz",
        "outputId": "76520f3d-e421-4cb6-e6f6-4e73a61995c1"
      },
      "outputs": [
        {
          "data": {
            "text/plain": [
              "tensor([1, 2, 3])"
            ]
          },
          "execution_count": 113,
          "metadata": {},
          "output_type": "execute_result"
        }
      ],
      "source": [
        "x[0, 0, :]"
      ]
    },
    {
      "cell_type": "code",
      "execution_count": 114,
      "metadata": {
        "colab": {
          "base_uri": "https://localhost:8080/"
        },
        "id": "J0bLQhiDivNt",
        "outputId": "2d31c918-e1df-4988-df2e-753fc89b582a"
      },
      "outputs": [
        {
          "data": {
            "text/plain": [
              "tensor([[3, 6, 9]])"
            ]
          },
          "execution_count": 114,
          "metadata": {},
          "output_type": "execute_result"
        }
      ],
      "source": [
        "x[:,:,2]"
      ]
    },
    {
      "attachments": {},
      "cell_type": "markdown",
      "metadata": {
        "id": "K5Zzo5MpjHb1"
      },
      "source": [
        "### PyTorch tensors and NumPy"
      ]
    },
    {
      "cell_type": "code",
      "execution_count": 119,
      "metadata": {
        "colab": {
          "base_uri": "https://localhost:8080/"
        },
        "id": "Re7l0l4Ui6wY",
        "outputId": "fd6328bb-6e46-438d-b0da-001c53b1ccc2"
      },
      "outputs": [
        {
          "data": {
            "text/plain": [
              "(array([1., 2., 3., 4., 5., 6., 7.]),\n",
              " '0x7fcd85737330',\n",
              " dtype('float64'),\n",
              " tensor([1., 2., 3., 4., 5., 6., 7.], dtype=torch.float64),\n",
              " '0x7fcd8573b830',\n",
              " torch.float64)"
            ]
          },
          "execution_count": 119,
          "metadata": {},
          "output_type": "execute_result"
        }
      ],
      "source": [
        "array = np.arange(1., 8.)\n",
        "tensor = torch.from_numpy(array) # NOTE: NumPy default dtype is float64 while PyTorch default dtype is float32\n",
        "array, hex(id(array)), array.dtype, tensor, hex(id(tensor)), tensor.dtype"
      ]
    },
    {
      "cell_type": "code",
      "execution_count": 120,
      "metadata": {
        "colab": {
          "base_uri": "https://localhost:8080/"
        },
        "id": "j3NfE4IQjfxw",
        "outputId": "32265b90-e371-4c3a-9721-14e983818995"
      },
      "outputs": [
        {
          "data": {
            "text/plain": [
              "(array([10.,  2.,  3.,  4.,  5.,  6.,  7.]),\n",
              " '0x7fcd85737330',\n",
              " tensor([10.,  2.,  3.,  4.,  5.,  6.,  7.], dtype=torch.float64),\n",
              " '0x7fcd8573b830')"
            ]
          },
          "execution_count": 120,
          "metadata": {},
          "output_type": "execute_result"
        }
      ],
      "source": [
        "# NOTE: this will change the value on the both variable\n",
        "# Because initially they were both having the same value, so Python assigns a same address to both, that's why\n",
        "# STRANGE\n",
        "array[0] = 10\n",
        "array, hex(id(array)), tensor, hex(id(tensor))"
      ]
    },
    {
      "cell_type": "code",
      "execution_count": 121,
      "metadata": {
        "colab": {
          "base_uri": "https://localhost:8080/"
        },
        "id": "XfdgeBZVkDlf",
        "outputId": "0f813b20-e5a3-40f3-b251-1f6f710e182c"
      },
      "outputs": [
        {
          "data": {
            "text/plain": [
              "(array([15.,  7.,  8.,  9., 10., 11., 12.]),\n",
              " '0x7fcd85737450',\n",
              " tensor([10.,  2.,  3.,  4.,  5.,  6.,  7.], dtype=torch.float64),\n",
              " '0x7fcd8573b830')"
            ]
          },
          "execution_count": 121,
          "metadata": {},
          "output_type": "execute_result"
        }
      ],
      "source": [
        "# NOTE: this won't change the value for the both variable\n",
        "# Because now Python assigned \"array\" variable a new address\n",
        "# STRANGE\n",
        "array = array + 5\n",
        "array, hex(id(array)), tensor, hex(id(tensor))"
      ]
    },
    {
      "cell_type": "code",
      "execution_count": 123,
      "metadata": {
        "colab": {
          "base_uri": "https://localhost:8080/"
        },
        "id": "ilzoetuVloGD",
        "outputId": "29675995-150b-4fdd-b822-c1b602947546"
      },
      "outputs": [
        {
          "data": {
            "text/plain": [
              "(tensor([1., 1., 1., 1., 1., 1., 1.]),\n",
              " torch.float32,\n",
              " array([1., 1., 1., 1., 1., 1., 1.], dtype=float32),\n",
              " dtype('float32'))"
            ]
          },
          "execution_count": 123,
          "metadata": {},
          "output_type": "execute_result"
        }
      ],
      "source": [
        "# Tensor to NumPy\n",
        "# Note: the datatype of the tensor and numpy array will be float32 (default for PyTorch)\n",
        "tensor = torch.ones(7)\n",
        "numpy_tensor = tensor.numpy()\n",
        "tensor, tensor.dtype, numpy_tensor, numpy_tensor.dtype"
      ]
    },
    {
      "cell_type": "code",
      "execution_count": 125,
      "metadata": {
        "colab": {
          "base_uri": "https://localhost:8080/"
        },
        "id": "zCrtAuAUnfym",
        "outputId": "1cd68582-c12f-4aeb-8679-475bdb148ea0"
      },
      "outputs": [
        {
          "data": {
            "text/plain": [
              "array([15.,  1.,  1.,  1.,  1.,  1.,  1.], dtype=float32)"
            ]
          },
          "execution_count": 125,
          "metadata": {},
          "output_type": "execute_result"
        }
      ],
      "source": [
        "# NOTE: this will change the value on the both variable\n",
        "# STRANGE!\n",
        "tensor[0] = 15\n",
        "numpy_tensor"
      ]
    },
    {
      "attachments": {},
      "cell_type": "markdown",
      "metadata": {
        "id": "yoEKJc7Znzct"
      },
      "source": [
        "### Reproducibility "
      ]
    },
    {
      "cell_type": "code",
      "execution_count": 126,
      "metadata": {
        "colab": {
          "base_uri": "https://localhost:8080/"
        },
        "id": "FQVxn1UdnnEg",
        "outputId": "071ce118-19a2-4af2-fdfc-fa83ee609bbd"
      },
      "outputs": [
        {
          "data": {
            "text/plain": [
              "tensor([[0.0610, 0.6677, 0.5372, 0.9080],\n",
              "        [0.5207, 0.7174, 0.2513, 0.1789],\n",
              "        [0.0340, 0.9905, 0.9938, 0.1854]])"
            ]
          },
          "execution_count": 126,
          "metadata": {},
          "output_type": "execute_result"
        }
      ],
      "source": [
        "# trying to take random out of random\n",
        "\n",
        "torch.rand(3,4)"
      ]
    },
    {
      "cell_type": "code",
      "execution_count": 127,
      "metadata": {
        "colab": {
          "base_uri": "https://localhost:8080/"
        },
        "id": "RnaK0-XPocIF",
        "outputId": "9e325b13-9bc5-458d-c3e1-da232935df92"
      },
      "outputs": [
        {
          "name": "stdout",
          "output_type": "stream",
          "text": [
            "tensor([[True, True, True, True],\n",
            "        [True, True, True, True],\n",
            "        [True, True, True, True]])\n"
          ]
        }
      ],
      "source": [
        "RANDOM_SEED = 42\n",
        "\n",
        "torch.manual_seed(RANDOM_SEED) # NOTE: it only works for the first rand line\n",
        "tensor_a = torch.rand(3,4)\n",
        "\n",
        "torch.manual_seed(RANDOM_SEED) # NOTE: have to write it again\n",
        "tensor_b = torch.rand(3,4)\n",
        "\n",
        "print(tensor_a == tensor_b)"
      ]
    },
    {
      "attachments": {},
      "cell_type": "markdown",
      "metadata": {
        "id": "AjEZcG2Yr8lk"
      },
      "source": [
        "### Running tensors on GPU"
      ]
    },
    {
      "cell_type": "code",
      "execution_count": 128,
      "metadata": {
        "colab": {
          "base_uri": "https://localhost:8080/"
        },
        "id": "hFavJOo1o9tD",
        "outputId": "fed28bb1-6bc6-4980-c114-159818b0c709"
      },
      "outputs": [
        {
          "data": {
            "text/plain": [
              "False"
            ]
          },
          "execution_count": 128,
          "metadata": {},
          "output_type": "execute_result"
        }
      ],
      "source": [
        "torch.cuda.is_available()"
      ]
    },
    {
      "cell_type": "code",
      "execution_count": 129,
      "metadata": {
        "colab": {
          "base_uri": "https://localhost:8080/",
          "height": 36
        },
        "id": "E85QlaBfBuuW",
        "outputId": "214d7ef3-7bbd-4d95-9479-296ba71e27c3"
      },
      "outputs": [
        {
          "data": {
            "text/plain": [
              "'cpu'"
            ]
          },
          "execution_count": 129,
          "metadata": {},
          "output_type": "execute_result"
        }
      ],
      "source": [
        "device = \"cuda\" if torch.cuda.is_available() else \"cpu\"\n",
        "device"
      ]
    },
    {
      "cell_type": "code",
      "execution_count": 130,
      "metadata": {
        "colab": {
          "base_uri": "https://localhost:8080/"
        },
        "id": "Ld4SAvs6B3TH",
        "outputId": "34e54006-b86a-4cb3-df1f-5c9aedf11274"
      },
      "outputs": [
        {
          "data": {
            "text/plain": [
              "0"
            ]
          },
          "execution_count": 130,
          "metadata": {},
          "output_type": "execute_result"
        }
      ],
      "source": [
        "torch.cuda.device_count()"
      ]
    },
    {
      "cell_type": "code",
      "execution_count": 131,
      "metadata": {
        "colab": {
          "base_uri": "https://localhost:8080/"
        },
        "id": "YmMgSFPcB7kM",
        "outputId": "f7bbfa2d-aa95-4724-a50e-fe54262fc735"
      },
      "outputs": [
        {
          "name": "stdout",
          "output_type": "stream",
          "text": [
            "/bin/bash: line 1: nvidia-smi: command not found\n"
          ]
        }
      ],
      "source": [
        "!nvidia-smi"
      ]
    },
    {
      "cell_type": "code",
      "execution_count": 132,
      "metadata": {
        "colab": {
          "base_uri": "https://localhost:8080/"
        },
        "id": "eK5BU4ASCNzI",
        "outputId": "a39f0126-bd44-4769-a991-f6884314fdf2"
      },
      "outputs": [
        {
          "name": "stdout",
          "output_type": "stream",
          "text": [
            "Tensor device: cpu\n"
          ]
        }
      ],
      "source": [
        "tensor = torch.tensor([1,2,3])\n",
        "\n",
        "print(f\"Tensor device: {tensor.device}\")"
      ]
    },
    {
      "cell_type": "code",
      "execution_count": 133,
      "metadata": {
        "colab": {
          "base_uri": "https://localhost:8080/"
        },
        "id": "aRmn3nW4Ce6T",
        "outputId": "f87df555-4527-4eaa-fd59-dcd7bdfd6216"
      },
      "outputs": [
        {
          "data": {
            "text/plain": [
              "tensor([1, 2, 3])"
            ]
          },
          "execution_count": 133,
          "metadata": {},
          "output_type": "execute_result"
        }
      ],
      "source": [
        "# move tensor to GPU if available\n",
        "\n",
        "tensor_on_gpu = tensor.to(device)\n",
        "tensor_on_gpu"
      ]
    },
    {
      "cell_type": "code",
      "execution_count": 134,
      "metadata": {
        "colab": {
          "base_uri": "https://localhost:8080/"
        },
        "id": "VPC3yV7MCrsq",
        "outputId": "a124dd2f-89cf-4442-a603-b8a821935061"
      },
      "outputs": [
        {
          "data": {
            "text/plain": [
              "(tensor([1, 2, 3]), device(type='cpu'))"
            ]
          },
          "execution_count": 134,
          "metadata": {},
          "output_type": "execute_result"
        }
      ],
      "source": [
        "# move back to CPU\n",
        "\n",
        "tensor_back_on_cpu = tensor_on_gpu.cpu()\n",
        "tensor_back_on_cpu, tensor_back_on_cpu.device\n"
      ]
    }
  ],
  "metadata": {
    "accelerator": "GPU",
    "colab": {
      "authorship_tag": "ABX9TyMyQb1u0T5H3g5kKs8Crpjl",
      "include_colab_link": true,
      "mount_file_id": "1m2b41JOywW00pkZvgy9toeHbftcWeCXc",
      "provenance": []
    },
    "gpuClass": "standard",
    "kernelspec": {
      "display_name": "Python 3",
      "name": "python3"
    },
    "language_info": {
      "codemirror_mode": {
        "name": "ipython",
        "version": 3
      },
      "file_extension": ".py",
      "mimetype": "text/x-python",
      "name": "python",
      "nbconvert_exporter": "python",
      "pygments_lexer": "ipython3",
      "version": "3.10.6"
    }
  },
  "nbformat": 4,
  "nbformat_minor": 0
}
