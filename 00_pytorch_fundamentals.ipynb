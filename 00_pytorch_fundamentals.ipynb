{
  "nbformat": 4,
  "nbformat_minor": 0,
  "metadata": {
    "colab": {
      "provenance": [],
      "mount_file_id": "1m2b41JOywW00pkZvgy9toeHbftcWeCXc",
      "authorship_tag": "ABX9TyMbkUbFQioIQJmvu4lYCHJg",
      "include_colab_link": true
    },
    "kernelspec": {
      "name": "python3",
      "display_name": "Python 3"
    },
    "language_info": {
      "name": "python"
    },
    "gpuClass": "standard"
  },
  "cells": [
    {
      "cell_type": "markdown",
      "metadata": {
        "id": "view-in-github",
        "colab_type": "text"
      },
      "source": [
        "<a href=\"https://colab.research.google.com/github/kvnptl/pytorch-practice/blob/main/00_pytorch_fundamentals.ipynb\" target=\"_parent\"><img src=\"https://colab.research.google.com/assets/colab-badge.svg\" alt=\"Open In Colab\"/></a>"
      ]
    },
    {
      "cell_type": "markdown",
      "source": [
        "# Learn PyTorch by Coding \n",
        "\n",
        "[1] My Github repo: https://github.com/kvnptl/pytorch-practice\n",
        "\n",
        "[2] Reference Video: https://www.youtube.com/watch?v=Z_ikDlimN6A&t=83869s \n",
        "\n",
        "[3] Reference Book: https://www.learnpytorch.io/00_pytorch_fundamentals/#creating-tensors \n",
        "\n"
      ],
      "metadata": {
        "id": "-Yt5Z1b35FkF"
      }
    },
    {
      "cell_type": "code",
      "execution_count": 1,
      "metadata": {
        "colab": {
          "base_uri": "https://localhost:8080/"
        },
        "id": "xv_hlMX-25rB",
        "outputId": "b86a8ca6-5846-4aa2-ae8f-1549689eef27"
      },
      "outputs": [
        {
          "output_type": "stream",
          "name": "stdout",
          "text": [
            "1.13.0+cu116\n"
          ]
        }
      ],
      "source": [
        "import torch\n",
        "import numpy as np\n",
        "print(torch.__version__)"
      ]
    },
    {
      "cell_type": "markdown",
      "source": [
        "### Introduction to tensor\n",
        "\n",
        "Document - `torch.Tensor()` - https://pytorch.org/docs/stable/tensors.html"
      ],
      "metadata": {
        "id": "Rxp89aIe5aC_"
      }
    },
    {
      "cell_type": "markdown",
      "source": [
        "# Variable naming convention\n",
        "\n",
        "- Keep scalar and vector in Lower case\n",
        "- Keep MATRIX and TENSOR in Upper case"
      ],
      "metadata": {
        "id": "fVCmLtfM9TS7"
      }
    },
    {
      "cell_type": "markdown",
      "source": [
        "#### Scalar"
      ],
      "metadata": {
        "id": "Xaj-4F8v-JTk"
      }
    },
    {
      "cell_type": "code",
      "source": [
        "# scalar\n",
        "\n",
        "scalar = torch.tensor(7)\n",
        "scalar"
      ],
      "metadata": {
        "colab": {
          "base_uri": "https://localhost:8080/"
        },
        "id": "dllAr7Cl3PP5",
        "outputId": "cf2991d0-6c44-47d8-8d35-b13a3c3e28a6"
      },
      "execution_count": 2,
      "outputs": [
        {
          "output_type": "execute_result",
          "data": {
            "text/plain": [
              "tensor(7)"
            ]
          },
          "metadata": {},
          "execution_count": 2
        }
      ]
    },
    {
      "cell_type": "code",
      "source": [
        "scalar.ndim"
      ],
      "metadata": {
        "colab": {
          "base_uri": "https://localhost:8080/"
        },
        "id": "FKTRcW7-53xa",
        "outputId": "b8aa27a1-0630-4f45-a7f3-85d0d3bfa911"
      },
      "execution_count": 3,
      "outputs": [
        {
          "output_type": "execute_result",
          "data": {
            "text/plain": [
              "0"
            ]
          },
          "metadata": {},
          "execution_count": 3
        }
      ]
    },
    {
      "cell_type": "code",
      "source": [
        "# Get tensor back as python int\n",
        "scalar.item()"
      ],
      "metadata": {
        "colab": {
          "base_uri": "https://localhost:8080/"
        },
        "id": "uC383GqH6jlC",
        "outputId": "87a5ad5b-9058-4932-995d-62ccc1689618"
      },
      "execution_count": 4,
      "outputs": [
        {
          "output_type": "execute_result",
          "data": {
            "text/plain": [
              "7"
            ]
          },
          "metadata": {},
          "execution_count": 4
        }
      ]
    },
    {
      "cell_type": "markdown",
      "source": [
        "#### Vector"
      ],
      "metadata": {
        "id": "NFgfgfWX-Qmw"
      }
    },
    {
      "cell_type": "code",
      "source": [
        "# vector\n",
        "vector =  torch.tensor([7,7])\n",
        "vector"
      ],
      "metadata": {
        "colab": {
          "base_uri": "https://localhost:8080/"
        },
        "id": "YCGmyYN46sxk",
        "outputId": "92076b02-1771-4523-a146-a3ba88651ab4"
      },
      "execution_count": 5,
      "outputs": [
        {
          "output_type": "execute_result",
          "data": {
            "text/plain": [
              "tensor([7, 7])"
            ]
          },
          "metadata": {},
          "execution_count": 5
        }
      ]
    },
    {
      "cell_type": "code",
      "source": [
        "vector.ndim # count number of [] brackets"
      ],
      "metadata": {
        "colab": {
          "base_uri": "https://localhost:8080/"
        },
        "id": "aX42tiA97J-w",
        "outputId": "2d81ad3c-4e17-4a2b-cea6-d30104dc58df"
      },
      "execution_count": 6,
      "outputs": [
        {
          "output_type": "execute_result",
          "data": {
            "text/plain": [
              "1"
            ]
          },
          "metadata": {},
          "execution_count": 6
        }
      ]
    },
    {
      "cell_type": "code",
      "source": [
        "vector.shape"
      ],
      "metadata": {
        "colab": {
          "base_uri": "https://localhost:8080/"
        },
        "id": "h1vrNthW7Mba",
        "outputId": "c2551c0d-5c70-4dbd-a505-3bb25313790e"
      },
      "execution_count": 7,
      "outputs": [
        {
          "output_type": "execute_result",
          "data": {
            "text/plain": [
              "torch.Size([2])"
            ]
          },
          "metadata": {},
          "execution_count": 7
        }
      ]
    },
    {
      "cell_type": "markdown",
      "source": [
        "#### MATRIX"
      ],
      "metadata": {
        "id": "6ZoF9ZQX-TEY"
      }
    },
    {
      "cell_type": "code",
      "source": [
        "# MATRIX\n",
        "MATRIX = torch.tensor([[7,8],\n",
        "                      [9, 10]])\n",
        "MATRIX"
      ],
      "metadata": {
        "colab": {
          "base_uri": "https://localhost:8080/"
        },
        "id": "ucB5Db_k7SoX",
        "outputId": "588b52d4-4590-4a79-a3a7-c6e9557cce76"
      },
      "execution_count": 8,
      "outputs": [
        {
          "output_type": "execute_result",
          "data": {
            "text/plain": [
              "tensor([[ 7,  8],\n",
              "        [ 9, 10]])"
            ]
          },
          "metadata": {},
          "execution_count": 8
        }
      ]
    },
    {
      "cell_type": "code",
      "source": [
        "MATRIX.ndim"
      ],
      "metadata": {
        "colab": {
          "base_uri": "https://localhost:8080/"
        },
        "id": "coZ6lsyq7miP",
        "outputId": "254c975a-8491-4c84-d116-e6d97d67be74"
      },
      "execution_count": 9,
      "outputs": [
        {
          "output_type": "execute_result",
          "data": {
            "text/plain": [
              "2"
            ]
          },
          "metadata": {},
          "execution_count": 9
        }
      ]
    },
    {
      "cell_type": "code",
      "source": [
        "MATRIX.shape"
      ],
      "metadata": {
        "colab": {
          "base_uri": "https://localhost:8080/"
        },
        "id": "XRWI-kxg7oOR",
        "outputId": "6795d9ee-de75-454c-defa-4cf8dc780fa9"
      },
      "execution_count": 10,
      "outputs": [
        {
          "output_type": "execute_result",
          "data": {
            "text/plain": [
              "torch.Size([2, 2])"
            ]
          },
          "metadata": {},
          "execution_count": 10
        }
      ]
    },
    {
      "cell_type": "code",
      "source": [
        "MATRIX[0] # 0th row"
      ],
      "metadata": {
        "colab": {
          "base_uri": "https://localhost:8080/"
        },
        "id": "4-dYpycr7qiu",
        "outputId": "d28d32cf-314d-4eec-bfa4-9ddd8f3c68c5"
      },
      "execution_count": 11,
      "outputs": [
        {
          "output_type": "execute_result",
          "data": {
            "text/plain": [
              "tensor([7, 8])"
            ]
          },
          "metadata": {},
          "execution_count": 11
        }
      ]
    },
    {
      "cell_type": "markdown",
      "source": [
        "#### TENSOR"
      ],
      "metadata": {
        "id": "Oyzz_PpX-YPb"
      }
    },
    {
      "cell_type": "code",
      "source": [
        "# TENSOR\n",
        "\n",
        "TENSOR = torch.tensor([[[1,2,3],\n",
        "                        [4,5,6],\n",
        "                        [7,8,9]]])\n",
        "TENSOR"
      ],
      "metadata": {
        "colab": {
          "base_uri": "https://localhost:8080/"
        },
        "id": "2e1QfXjb7umw",
        "outputId": "8a05b27a-8d8d-4105-a2f3-4ab24fa1dbc4"
      },
      "execution_count": 12,
      "outputs": [
        {
          "output_type": "execute_result",
          "data": {
            "text/plain": [
              "tensor([[[1, 2, 3],\n",
              "         [4, 5, 6],\n",
              "         [7, 8, 9]]])"
            ]
          },
          "metadata": {},
          "execution_count": 12
        }
      ]
    },
    {
      "cell_type": "code",
      "source": [
        "TENSOR.ndim"
      ],
      "metadata": {
        "colab": {
          "base_uri": "https://localhost:8080/"
        },
        "id": "RkMEjtQG8D-7",
        "outputId": "b37f51b7-ff1a-4447-8969-01d891afbeaf"
      },
      "execution_count": 13,
      "outputs": [
        {
          "output_type": "execute_result",
          "data": {
            "text/plain": [
              "3"
            ]
          },
          "metadata": {},
          "execution_count": 13
        }
      ]
    },
    {
      "cell_type": "code",
      "source": [
        "TENSOR.shape"
      ],
      "metadata": {
        "colab": {
          "base_uri": "https://localhost:8080/"
        },
        "id": "_y-H4-uC8GzJ",
        "outputId": "52dd6c16-abbc-4b6c-c5e9-ff52faaa5126"
      },
      "execution_count": 14,
      "outputs": [
        {
          "output_type": "execute_result",
          "data": {
            "text/plain": [
              "torch.Size([1, 3, 3])"
            ]
          },
          "metadata": {},
          "execution_count": 14
        }
      ]
    },
    {
      "cell_type": "code",
      "source": [
        "TENSOR[0]"
      ],
      "metadata": {
        "colab": {
          "base_uri": "https://localhost:8080/"
        },
        "id": "P0KVfTNS8Me4",
        "outputId": "228cb4fe-de00-4a55-f490-b8b85b05812e"
      },
      "execution_count": 15,
      "outputs": [
        {
          "output_type": "execute_result",
          "data": {
            "text/plain": [
              "tensor([[1, 2, 3],\n",
              "        [4, 5, 6],\n",
              "        [7, 8, 9]])"
            ]
          },
          "metadata": {},
          "execution_count": 15
        }
      ]
    },
    {
      "cell_type": "code",
      "source": [
        "TENSOR[0][1]"
      ],
      "metadata": {
        "colab": {
          "base_uri": "https://localhost:8080/"
        },
        "id": "53r8YsJ58VRK",
        "outputId": "0d950a4a-67fa-4815-e484-1711bc588956"
      },
      "execution_count": 16,
      "outputs": [
        {
          "output_type": "execute_result",
          "data": {
            "text/plain": [
              "tensor([4, 5, 6])"
            ]
          },
          "metadata": {},
          "execution_count": 16
        }
      ]
    },
    {
      "cell_type": "code",
      "source": [
        "TENSOR[0][1][0]"
      ],
      "metadata": {
        "colab": {
          "base_uri": "https://localhost:8080/"
        },
        "id": "0cBO0K8W8zqo",
        "outputId": "ed04ca2d-90a7-4ab2-e559-5e05072b1b02"
      },
      "execution_count": 17,
      "outputs": [
        {
          "output_type": "execute_result",
          "data": {
            "text/plain": [
              "tensor(4)"
            ]
          },
          "metadata": {},
          "execution_count": 17
        }
      ]
    },
    {
      "cell_type": "markdown",
      "source": [
        "#### RANDOM TENSORS"
      ],
      "metadata": {
        "id": "2Ez5RYIs-DHY"
      }
    },
    {
      "cell_type": "code",
      "source": [
        "## RANDOM TENSORS\n",
        "\n",
        "random_tensor = torch.rand(3,4)\n",
        "random_tensor\n"
      ],
      "metadata": {
        "colab": {
          "base_uri": "https://localhost:8080/"
        },
        "id": "ZToWDS249BE6",
        "outputId": "9f2e9880-e8ab-4875-ef9e-067d3bca9568"
      },
      "execution_count": 18,
      "outputs": [
        {
          "output_type": "execute_result",
          "data": {
            "text/plain": [
              "tensor([[0.8497, 0.5455, 0.9269, 0.3293],\n",
              "        [0.1719, 0.6214, 0.3819, 0.5367],\n",
              "        [0.4748, 0.8052, 0.4393, 0.9754]])"
            ]
          },
          "metadata": {},
          "execution_count": 18
        }
      ]
    },
    {
      "cell_type": "code",
      "source": [
        "random_tensor.ndim"
      ],
      "metadata": {
        "colab": {
          "base_uri": "https://localhost:8080/"
        },
        "id": "SEk0s7Pd-3bb",
        "outputId": "d7c326ec-abaa-4d27-a112-c24661f4e3bb"
      },
      "execution_count": 19,
      "outputs": [
        {
          "output_type": "execute_result",
          "data": {
            "text/plain": [
              "2"
            ]
          },
          "metadata": {},
          "execution_count": 19
        }
      ]
    },
    {
      "cell_type": "code",
      "source": [
        "random_tensor_2 = torch.rand(5, 3, 4)\n",
        "random_tensor_2"
      ],
      "metadata": {
        "colab": {
          "base_uri": "https://localhost:8080/"
        },
        "id": "KlRZ-2fx_Abn",
        "outputId": "b1fd330d-16c7-426b-9d48-0256af080a26"
      },
      "execution_count": 20,
      "outputs": [
        {
          "output_type": "execute_result",
          "data": {
            "text/plain": [
              "tensor([[[0.5949, 0.5744, 0.6060, 0.0903],\n",
              "         [0.1511, 0.2434, 0.8409, 0.6549],\n",
              "         [0.8044, 0.6348, 0.4626, 0.2702]],\n",
              "\n",
              "        [[0.0456, 0.1259, 0.1213, 0.8907],\n",
              "         [0.8650, 0.4682, 0.5168, 0.1525],\n",
              "         [0.6691, 0.6600, 0.0529, 0.6317]],\n",
              "\n",
              "        [[0.7260, 0.9699, 0.4941, 0.6879],\n",
              "         [0.7578, 0.7434, 0.1537, 0.0315],\n",
              "         [0.3124, 0.8029, 0.3544, 0.6380]],\n",
              "\n",
              "        [[0.8501, 0.6543, 0.9748, 0.4702],\n",
              "         [0.4071, 0.4435, 0.0863, 0.8622],\n",
              "         [0.5596, 0.6697, 0.8845, 0.4101]],\n",
              "\n",
              "        [[0.4029, 0.7826, 0.4381, 0.4307],\n",
              "         [0.8822, 0.4334, 0.6963, 0.9814],\n",
              "         [0.6040, 0.0761, 0.9836, 0.5390]]])"
            ]
          },
          "metadata": {},
          "execution_count": 20
        }
      ]
    },
    {
      "cell_type": "code",
      "source": [
        "random_tensor_2.ndim"
      ],
      "metadata": {
        "colab": {
          "base_uri": "https://localhost:8080/"
        },
        "id": "j0F6Zlsz_L7S",
        "outputId": "e1e6b1d3-34e2-444e-895f-d48c151a58c0"
      },
      "execution_count": 21,
      "outputs": [
        {
          "output_type": "execute_result",
          "data": {
            "text/plain": [
              "3"
            ]
          },
          "metadata": {},
          "execution_count": 21
        }
      ]
    },
    {
      "cell_type": "code",
      "source": [
        "random_image_size_tensor = torch.rand(size=(3, 224,224)) # channel, height, width\n",
        "random_image_size_tensor.ndim, random_image_size_tensor.shape"
      ],
      "metadata": {
        "colab": {
          "base_uri": "https://localhost:8080/"
        },
        "id": "V037nNh6_OhH",
        "outputId": "cef2aba9-85f9-40db-d4bb-a2bdba9665e8"
      },
      "execution_count": 22,
      "outputs": [
        {
          "output_type": "execute_result",
          "data": {
            "text/plain": [
              "(3, torch.Size([3, 224, 224]))"
            ]
          },
          "metadata": {},
          "execution_count": 22
        }
      ]
    },
    {
      "cell_type": "code",
      "source": [
        "random_tensor_3 = torch.rand(1,1,3,3)\n",
        "random_tensor_3.ndim, random_tensor_3.shape"
      ],
      "metadata": {
        "colab": {
          "base_uri": "https://localhost:8080/"
        },
        "id": "N8fCEOfx_jyJ",
        "outputId": "100da493-beab-4e36-8c23-e9ae147616eb"
      },
      "execution_count": 23,
      "outputs": [
        {
          "output_type": "execute_result",
          "data": {
            "text/plain": [
              "(4, torch.Size([1, 1, 3, 3]))"
            ]
          },
          "metadata": {},
          "execution_count": 23
        }
      ]
    },
    {
      "cell_type": "code",
      "source": [
        "# zeros and ones\n",
        "\n",
        "zeros = torch.zeros(size=(3,4))\n",
        "ones = torch.ones(size=(3,4))"
      ],
      "metadata": {
        "id": "sLphEIuGAa-b"
      },
      "execution_count": 24,
      "outputs": []
    },
    {
      "cell_type": "code",
      "source": [
        "ones.dtype # default is float 32"
      ],
      "metadata": {
        "colab": {
          "base_uri": "https://localhost:8080/"
        },
        "id": "p08SnBetAoaY",
        "outputId": "ce7ff920-fe0e-4bcf-d1c7-ccc0002244b6"
      },
      "execution_count": 25,
      "outputs": [
        {
          "output_type": "execute_result",
          "data": {
            "text/plain": [
              "torch.float32"
            ]
          },
          "metadata": {},
          "execution_count": 25
        }
      ]
    },
    {
      "cell_type": "markdown",
      "source": [
        "### Creating a range od tensors and tesnors-like"
      ],
      "metadata": {
        "id": "Xh7MQZHHBRUC"
      }
    },
    {
      "cell_type": "code",
      "source": [
        "a_range = torch.arange(start=0, end=1000, step=50)\n",
        "a_range.ndim, a_range.shape"
      ],
      "metadata": {
        "colab": {
          "base_uri": "https://localhost:8080/"
        },
        "id": "FSznslNBA2Sm",
        "outputId": "abccd3f5-d7e0-44ee-81fd-d0556c5aab1e"
      },
      "execution_count": 26,
      "outputs": [
        {
          "output_type": "execute_result",
          "data": {
            "text/plain": [
              "(1, torch.Size([20]))"
            ]
          },
          "metadata": {},
          "execution_count": 26
        }
      ]
    },
    {
      "cell_type": "code",
      "source": [
        "# creating tensors like \n",
        "# create a new tensor same as input tensor size\n",
        "\n",
        "alike = torch.zeros_like(input=a_range)\n",
        "alike"
      ],
      "metadata": {
        "colab": {
          "base_uri": "https://localhost:8080/"
        },
        "id": "lUlzGLHXBNZC",
        "outputId": "3f0649cc-e31f-4eaa-b0d6-e892fcd8a4c6"
      },
      "execution_count": 27,
      "outputs": [
        {
          "output_type": "execute_result",
          "data": {
            "text/plain": [
              "tensor([0, 0, 0, 0, 0, 0, 0, 0, 0, 0, 0, 0, 0, 0, 0, 0, 0, 0, 0, 0])"
            ]
          },
          "metadata": {},
          "execution_count": 27
        }
      ]
    },
    {
      "cell_type": "markdown",
      "source": [
        "### TENSOR datatypes\n",
        "\n",
        "- float32 = single precision\n",
        "- float16 = half precision"
      ],
      "metadata": {
        "id": "Y9_W6aaKCukn"
      }
    },
    {
      "cell_type": "code",
      "source": [
        "float_32_tensor = torch.tensor([3.,6.,9.], dtype=None, device=None, requires_grad=False)\n",
        "float_32_tensor.dtype"
      ],
      "metadata": {
        "colab": {
          "base_uri": "https://localhost:8080/"
        },
        "id": "rSd4tYPBBH4l",
        "outputId": "8c6e7737-0153-44a8-ea23-00d0c48463de"
      },
      "execution_count": 28,
      "outputs": [
        {
          "output_type": "execute_result",
          "data": {
            "text/plain": [
              "torch.float32"
            ]
          },
          "metadata": {},
          "execution_count": 28
        }
      ]
    },
    {
      "cell_type": "code",
      "source": [
        "float_16_tensor = torch.tensor([1,2,3], dtype=torch.float16) # or dtype=torch.half\n",
        "float_16_tensor.dtype"
      ],
      "metadata": {
        "colab": {
          "base_uri": "https://localhost:8080/"
        },
        "id": "5523gmo7C8D4",
        "outputId": "c1631080-43f1-4e74-9265-d85b4cae6266"
      },
      "execution_count": 29,
      "outputs": [
        {
          "output_type": "execute_result",
          "data": {
            "text/plain": [
              "torch.float16"
            ]
          },
          "metadata": {},
          "execution_count": 29
        }
      ]
    },
    {
      "cell_type": "code",
      "source": [
        "tensor_mul = float_16_tensor*float_32_tensor\n",
        "tensor_mul.dtype"
      ],
      "metadata": {
        "colab": {
          "base_uri": "https://localhost:8080/"
        },
        "id": "o0_gjMSdFYlm",
        "outputId": "8f633cc2-279b-4441-adf8-16177f3ae4f8"
      },
      "execution_count": 30,
      "outputs": [
        {
          "output_type": "execute_result",
          "data": {
            "text/plain": [
              "torch.float32"
            ]
          },
          "metadata": {},
          "execution_count": 30
        }
      ]
    },
    {
      "cell_type": "markdown",
      "source": [
        "### Getting information from tensors"
      ],
      "metadata": {
        "id": "O4O6ByB_GeOZ"
      }
    },
    {
      "cell_type": "code",
      "source": [
        "some_tensor = torch.rand(3,5, dtype=torch.float64)\n",
        "some_tensor"
      ],
      "metadata": {
        "colab": {
          "base_uri": "https://localhost:8080/"
        },
        "id": "2Y5SntSpFk3U",
        "outputId": "dbad8ab9-47e1-41eb-9282-e1c431aca10d"
      },
      "execution_count": 31,
      "outputs": [
        {
          "output_type": "execute_result",
          "data": {
            "text/plain": [
              "tensor([[0.9236, 0.6298, 0.3755, 0.7851, 0.3198],\n",
              "        [0.0689, 0.7766, 0.2730, 0.4082, 0.0565],\n",
              "        [0.6506, 0.0560, 0.1545, 0.4517, 0.0851]], dtype=torch.float64)"
            ]
          },
          "metadata": {},
          "execution_count": 31
        }
      ]
    },
    {
      "cell_type": "code",
      "source": [
        "print(some_tensor)\n",
        "print(f\"Datatype of tensor: {some_tensor.dtype}\")\n",
        "print(f\"Shpae of tensor: {some_tensor.shape}\")\n",
        "print(f\"Device of tensor: {some_tensor.device}\")"
      ],
      "metadata": {
        "colab": {
          "base_uri": "https://localhost:8080/"
        },
        "id": "bV4USU9hGra7",
        "outputId": "297ecdc2-c555-4520-b85e-7efb03bf166c"
      },
      "execution_count": 32,
      "outputs": [
        {
          "output_type": "stream",
          "name": "stdout",
          "text": [
            "tensor([[0.9236, 0.6298, 0.3755, 0.7851, 0.3198],\n",
            "        [0.0689, 0.7766, 0.2730, 0.4082, 0.0565],\n",
            "        [0.6506, 0.0560, 0.1545, 0.4517, 0.0851]], dtype=torch.float64)\n",
            "Datatype of tensor: torch.float64\n",
            "Shpae of tensor: torch.Size([3, 5])\n",
            "Device of tensor: cpu\n"
          ]
        }
      ]
    },
    {
      "cell_type": "markdown",
      "source": [
        "### Manipulating tensors\n",
        "\n",
        "These operations are often a wonderful dance between:\n",
        "\n",
        "- Addition\n",
        "- Substraction\n",
        "- Multiplication (element-wise)\n",
        "- Division\n",
        "- Matrix multiplication"
      ],
      "metadata": {
        "id": "rk4-xjVNHiUL"
      }
    },
    {
      "cell_type": "code",
      "source": [
        "tensor = torch.tensor([1,2,3])\n",
        "tensor + 10"
      ],
      "metadata": {
        "colab": {
          "base_uri": "https://localhost:8080/"
        },
        "id": "MpS_6t0xHCan",
        "outputId": "69743d73-63b9-4f57-8668-358760df1251"
      },
      "execution_count": 33,
      "outputs": [
        {
          "output_type": "execute_result",
          "data": {
            "text/plain": [
              "tensor([11, 12, 13])"
            ]
          },
          "metadata": {},
          "execution_count": 33
        }
      ]
    },
    {
      "cell_type": "code",
      "source": [
        "%%time\n",
        "tensor * 10"
      ],
      "metadata": {
        "colab": {
          "base_uri": "https://localhost:8080/"
        },
        "id": "Q4u5Z9gyID8E",
        "outputId": "42221838-0334-4d4f-d3fa-54dbb8e14492"
      },
      "execution_count": 42,
      "outputs": [
        {
          "output_type": "stream",
          "name": "stdout",
          "text": [
            "CPU times: user 1.21 ms, sys: 41 µs, total: 1.25 ms\n",
            "Wall time: 1.18 ms\n"
          ]
        },
        {
          "output_type": "execute_result",
          "data": {
            "text/plain": [
              "tensor([10, 20, 30])"
            ]
          },
          "metadata": {},
          "execution_count": 42
        }
      ]
    },
    {
      "cell_type": "code",
      "source": [
        "%%time\n",
        "torch.mul(tensor, 10)"
      ],
      "metadata": {
        "colab": {
          "base_uri": "https://localhost:8080/"
        },
        "id": "SJYfJBQyWQL1",
        "outputId": "46c8dfc8-aab4-4afc-d205-80bae6378cf9"
      },
      "execution_count": 44,
      "outputs": [
        {
          "output_type": "stream",
          "name": "stdout",
          "text": [
            "CPU times: user 482 µs, sys: 0 ns, total: 482 µs\n",
            "Wall time: 490 µs\n"
          ]
        },
        {
          "output_type": "execute_result",
          "data": {
            "text/plain": [
              "tensor([10, 20, 30])"
            ]
          },
          "metadata": {},
          "execution_count": 44
        }
      ]
    },
    {
      "cell_type": "code",
      "source": [
        "tensor - 5"
      ],
      "metadata": {
        "id": "_gyTm3d_IP6f",
        "colab": {
          "base_uri": "https://localhost:8080/"
        },
        "outputId": "3c10fba3-3f43-4133-9816-a2f2ff9efed9"
      },
      "execution_count": 35,
      "outputs": [
        {
          "output_type": "execute_result",
          "data": {
            "text/plain": [
              "tensor([-4, -3, -2])"
            ]
          },
          "metadata": {},
          "execution_count": 35
        }
      ]
    },
    {
      "cell_type": "code",
      "source": [
        "torch.mul(tensor, 10)"
      ],
      "metadata": {
        "colab": {
          "base_uri": "https://localhost:8080/"
        },
        "id": "ikxD8kO6TdhT",
        "outputId": "4ce3aea8-5e30-4dda-e9cc-58d442147152"
      },
      "execution_count": 36,
      "outputs": [
        {
          "output_type": "execute_result",
          "data": {
            "text/plain": [
              "tensor([10, 20, 30])"
            ]
          },
          "metadata": {},
          "execution_count": 36
        }
      ]
    },
    {
      "cell_type": "code",
      "source": [
        "torch.add(tensor, 3)"
      ],
      "metadata": {
        "colab": {
          "base_uri": "https://localhost:8080/"
        },
        "id": "hVsyKDnsTiaL",
        "outputId": "34420ca1-1a46-4b42-cb03-31ca018b73a3"
      },
      "execution_count": 37,
      "outputs": [
        {
          "output_type": "execute_result",
          "data": {
            "text/plain": [
              "tensor([4, 5, 6])"
            ]
          },
          "metadata": {},
          "execution_count": 37
        }
      ]
    },
    {
      "cell_type": "code",
      "source": [
        "# Matrix multiplication\n",
        "\n",
        "tensor * tensor"
      ],
      "metadata": {
        "colab": {
          "base_uri": "https://localhost:8080/"
        },
        "id": "gBLgwL8lTsGv",
        "outputId": "1f9f4973-ff79-4d2a-8960-ef32daf511d0"
      },
      "execution_count": 38,
      "outputs": [
        {
          "output_type": "execute_result",
          "data": {
            "text/plain": [
              "tensor([1, 4, 9])"
            ]
          },
          "metadata": {},
          "execution_count": 38
        }
      ]
    },
    {
      "cell_type": "code",
      "source": [
        "torch.matmul(tensor, tensor)"
      ],
      "metadata": {
        "colab": {
          "base_uri": "https://localhost:8080/"
        },
        "id": "pOBdAqTnUdRd",
        "outputId": "54546fa3-73bb-487e-9a0b-a4b7791c3b14"
      },
      "execution_count": 39,
      "outputs": [
        {
          "output_type": "execute_result",
          "data": {
            "text/plain": [
              "tensor(14)"
            ]
          },
          "metadata": {},
          "execution_count": 39
        }
      ]
    },
    {
      "cell_type": "code",
      "source": [
        "%%time\n",
        "val = 0\n",
        "for i in range(len(tensor)):\n",
        "  val = tensor[i] * tensor[i]\n",
        "print(val)"
      ],
      "metadata": {
        "colab": {
          "base_uri": "https://localhost:8080/"
        },
        "id": "cdWAls-JUmFw",
        "outputId": "0b707523-227f-43cd-b161-509f5a7bb483"
      },
      "execution_count": 40,
      "outputs": [
        {
          "output_type": "stream",
          "name": "stdout",
          "text": [
            "tensor(9)\n",
            "CPU times: user 3.2 ms, sys: 0 ns, total: 3.2 ms\n",
            "Wall time: 3.3 ms\n"
          ]
        }
      ]
    },
    {
      "cell_type": "code",
      "source": [
        "%%time\n",
        "torch.matmul(tensor, tensor)"
      ],
      "metadata": {
        "colab": {
          "base_uri": "https://localhost:8080/"
        },
        "id": "xAQhZMOEVLfL",
        "outputId": "4fb408fd-21c2-40da-93e6-1da9bbcaa9e5"
      },
      "execution_count": 41,
      "outputs": [
        {
          "output_type": "stream",
          "name": "stdout",
          "text": [
            "CPU times: user 67 µs, sys: 18 µs, total: 85 µs\n",
            "Wall time: 90.1 µs\n"
          ]
        },
        {
          "output_type": "execute_result",
          "data": {
            "text/plain": [
              "tensor(14)"
            ]
          },
          "metadata": {},
          "execution_count": 41
        }
      ]
    },
    {
      "cell_type": "code",
      "source": [
        "tensorA = torch.rand(size=(3,4))\n",
        "tensorB = torch.rand(size=(4,3))\n",
        "torch.matmul(tensorA, tensorB)"
      ],
      "metadata": {
        "colab": {
          "base_uri": "https://localhost:8080/"
        },
        "id": "BvVJmR07VvVu",
        "outputId": "2d38ca82-8e00-403a-be25-153e8aea057a"
      },
      "execution_count": 49,
      "outputs": [
        {
          "output_type": "execute_result",
          "data": {
            "text/plain": [
              "tensor([[0.4517, 0.4342, 0.4058],\n",
              "        [0.2633, 0.3805, 0.4329],\n",
              "        [0.5344, 0.5708, 0.4744]])"
            ]
          },
          "metadata": {},
          "execution_count": 49
        }
      ]
    },
    {
      "cell_type": "code",
      "source": [
        "# find min, max, sum (tensor aggregation)\n",
        "\n",
        "x = torch.arange(0,10)\n",
        "x"
      ],
      "metadata": {
        "colab": {
          "base_uri": "https://localhost:8080/"
        },
        "id": "F76wgVL1XSd4",
        "outputId": "74317297-1486-41f7-a7f8-85c159053f4a"
      },
      "execution_count": 60,
      "outputs": [
        {
          "output_type": "execute_result",
          "data": {
            "text/plain": [
              "tensor([0, 1, 2, 3, 4, 5, 6, 7, 8, 9])"
            ]
          },
          "metadata": {},
          "execution_count": 60
        }
      ]
    },
    {
      "cell_type": "code",
      "source": [
        "torch.min(x)"
      ],
      "metadata": {
        "colab": {
          "base_uri": "https://localhost:8080/"
        },
        "id": "ZHb2jAPxYF7g",
        "outputId": "2e1fa588-ca5a-430c-9beb-50d9bacc9b87"
      },
      "execution_count": 61,
      "outputs": [
        {
          "output_type": "execute_result",
          "data": {
            "text/plain": [
              "tensor(0)"
            ]
          },
          "metadata": {},
          "execution_count": 61
        }
      ]
    },
    {
      "cell_type": "code",
      "source": [
        "torch.max(x)"
      ],
      "metadata": {
        "colab": {
          "base_uri": "https://localhost:8080/"
        },
        "id": "MX2vPBXSYIXk",
        "outputId": "ce77c75e-047f-434c-914f-1c3b5a42866a"
      },
      "execution_count": 62,
      "outputs": [
        {
          "output_type": "execute_result",
          "data": {
            "text/plain": [
              "tensor(9)"
            ]
          },
          "metadata": {},
          "execution_count": 62
        }
      ]
    },
    {
      "cell_type": "code",
      "source": [
        "torch.sum(x)"
      ],
      "metadata": {
        "colab": {
          "base_uri": "https://localhost:8080/"
        },
        "id": "Nbe7jRkDYLw8",
        "outputId": "93c5cac8-b1b3-448a-81a3-f0b309be92a7"
      },
      "execution_count": 63,
      "outputs": [
        {
          "output_type": "execute_result",
          "data": {
            "text/plain": [
              "tensor(45)"
            ]
          },
          "metadata": {},
          "execution_count": 63
        }
      ]
    },
    {
      "cell_type": "code",
      "source": [
        "torch.mean(x.type(torch.float32))"
      ],
      "metadata": {
        "colab": {
          "base_uri": "https://localhost:8080/"
        },
        "id": "GfgkrELpYNT2",
        "outputId": "4b2bf316-c881-49b6-b1ea-924a009b3aa8"
      },
      "execution_count": 65,
      "outputs": [
        {
          "output_type": "execute_result",
          "data": {
            "text/plain": [
              "tensor(4.5000)"
            ]
          },
          "metadata": {},
          "execution_count": 65
        }
      ]
    },
    {
      "cell_type": "code",
      "source": [],
      "metadata": {
        "id": "6ShbgYwTYP5S"
      },
      "execution_count": null,
      "outputs": []
    }
  ]
}