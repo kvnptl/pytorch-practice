{
  "nbformat": 4,
  "nbformat_minor": 0,
  "metadata": {
    "colab": {
      "provenance": [],
      "toc_visible": true,
      "mount_file_id": "1tPGxmRQV1XXW1TZYWkDJ7WGqn0cWlcK6",
      "authorship_tag": "ABX9TyMDflnIII7tK3IXrNlojlXO",
      "include_colab_link": true
    },
    "kernelspec": {
      "name": "python3",
      "display_name": "Python 3"
    },
    "language_info": {
      "name": "python"
    },
    "gpuClass": "standard"
  },
  "cells": [
    {
      "cell_type": "markdown",
      "metadata": {
        "id": "view-in-github",
        "colab_type": "text"
      },
      "source": [
        "<a href=\"https://colab.research.google.com/github/kvnptl/pytorch-practice/blob/main/01_pytorch_workflow.ipynb\" target=\"_parent\"><img src=\"https://colab.research.google.com/assets/colab-badge.svg\" alt=\"Open In Colab\"/></a>"
      ]
    },
    {
      "cell_type": "markdown",
      "source": [
        "# PyTorch Workflow\n",
        "\n",
        "[1] My Github repo: https://github.com/kvnptl/pytorch-practice\n",
        "\n",
        "[2] Reference Video: https://www.youtube.com/watch?v=Z_ikDlimN6A&t=83869s \n",
        "\n",
        "[3] Reference Book: https://www.learnpytorch.io/00_pytorch_fundamentals/#creating-tensors \n",
        "\n"
      ],
      "metadata": {
        "id": "-Yt5Z1b35FkF"
      }
    },
    {
      "cell_type": "markdown",
      "source": [
        "# Content\n",
        "\n",
        "- Data (prepare and load)\n",
        "- Build a model\n",
        "- Fitting the data to model (training)\n",
        "- Making prediction and evaluating a model (inference)\n",
        "- Saving and loading model"
      ],
      "metadata": {
        "id": "S_AveqYUGNS_"
      }
    },
    {
      "cell_type": "code",
      "execution_count": 1,
      "metadata": {
        "colab": {
          "base_uri": "https://localhost:8080/"
        },
        "id": "xv_hlMX-25rB",
        "outputId": "35c9598e-2623-4389-bc54-6eaa2a625d66"
      },
      "outputs": [
        {
          "output_type": "stream",
          "name": "stdout",
          "text": [
            "1.13.0+cu116\n"
          ]
        }
      ],
      "source": [
        "import torch\n",
        "from torch import nn\n",
        "import matplotlib.pyplot as plt\n",
        "import numpy as np\n",
        "print(torch.__version__)"
      ]
    },
    {
      "cell_type": "markdown",
      "source": [
        "### Linear regression "
      ],
      "metadata": {
        "id": "xJPpymdUJQdd"
      }
    },
    {
      "cell_type": "code",
      "source": [
        "weight = 0.7\n",
        "bias = 0.3\n",
        "\n",
        "start = 0\n",
        "end = 1\n",
        "step = 0.02\n",
        "\n",
        "# X = torch.arange(start, end, step).unsqueeze(dim=1)\n",
        "X = torch.arange(start, end, step).unsqueeze(dim=1)\n",
        "y = weight * X + bias\n",
        "\n",
        "X[:10], X.shape, len(X)"
      ],
      "metadata": {
        "colab": {
          "base_uri": "https://localhost:8080/"
        },
        "id": "WeBS6r8XFdJw",
        "outputId": "43751f0c-a94c-4652-c6b1-4b2531dc6478"
      },
      "execution_count": 2,
      "outputs": [
        {
          "output_type": "execute_result",
          "data": {
            "text/plain": [
              "(tensor([[0.0000],\n",
              "         [0.0200],\n",
              "         [0.0400],\n",
              "         [0.0600],\n",
              "         [0.0800],\n",
              "         [0.1000],\n",
              "         [0.1200],\n",
              "         [0.1400],\n",
              "         [0.1600],\n",
              "         [0.1800]]), torch.Size([50, 1]), 50)"
            ]
          },
          "metadata": {},
          "execution_count": 2
        }
      ]
    },
    {
      "cell_type": "code",
      "source": [
        "y[:10], y.shape"
      ],
      "metadata": {
        "colab": {
          "base_uri": "https://localhost:8080/"
        },
        "id": "Z8LmQG1fJy4s",
        "outputId": "8ca33fe5-8988-4c3a-ac64-5ba08a791b3f"
      },
      "execution_count": 3,
      "outputs": [
        {
          "output_type": "execute_result",
          "data": {
            "text/plain": [
              "(tensor([[0.3000],\n",
              "         [0.3140],\n",
              "         [0.3280],\n",
              "         [0.3420],\n",
              "         [0.3560],\n",
              "         [0.3700],\n",
              "         [0.3840],\n",
              "         [0.3980],\n",
              "         [0.4120],\n",
              "         [0.4260]]), torch.Size([50, 1]))"
            ]
          },
          "metadata": {},
          "execution_count": 3
        }
      ]
    },
    {
      "cell_type": "markdown",
      "source": [
        "#### Split the data"
      ],
      "metadata": {
        "id": "6MNrvSJeKQO7"
      }
    },
    {
      "cell_type": "code",
      "source": [
        "train_split = int(0.8 * len(X))\n",
        "X_train, y_train = X[:train_split], y[:train_split]\n",
        "X_test, y_test = X[train_split:], y[train_split:]\n",
        "\n",
        "len(X_train), len(X_test), len(X_train), len(X_test)"
      ],
      "metadata": {
        "colab": {
          "base_uri": "https://localhost:8080/"
        },
        "id": "x1v08VqiKFUT",
        "outputId": "4c0a3a22-d0a1-4d55-cc92-fbbff6f2ab16"
      },
      "execution_count": 4,
      "outputs": [
        {
          "output_type": "execute_result",
          "data": {
            "text/plain": [
              "(40, 10, 40, 10)"
            ]
          },
          "metadata": {},
          "execution_count": 4
        }
      ]
    },
    {
      "cell_type": "code",
      "source": [
        "def plot_predictions (train_data=X_train, \n",
        "                      train_labels=y_train,\n",
        "                      test_data = X_test,\n",
        "                      test_labels=y_test,\n",
        "                      predictions=None):\n",
        "  '''\n",
        "  Plot training data, test data, and compares predictions\n",
        "  '''\n",
        "\n",
        "  plt.figure(figsize=(10,7))\n",
        "\n",
        "  plt.scatter(train_data, train_labels, c='b', s=4, label=\"Training data\")\n",
        "\n",
        "  plt.scatter(test_data, test_labels, c='g', s=4, label=\"Test data\")\n",
        "\n",
        "  if predictions is not None:\n",
        "    plt.scatter(test_data, predictions, c='r', s= 4, label=\"Predictions\")\n",
        "\n",
        "  plt.legend(prop={\"size\":14})\n",
        "\n"
      ],
      "metadata": {
        "id": "V06A6IGiLRrQ"
      },
      "execution_count": 5,
      "outputs": []
    },
    {
      "cell_type": "code",
      "source": [
        "plot_predictions();"
      ],
      "metadata": {
        "colab": {
          "base_uri": "https://localhost:8080/",
          "height": 428
        },
        "id": "1m0_2Az8OcP0",
        "outputId": "5bd2a93f-a8a9-4130-9f69-af2c20cf8b10"
      },
      "execution_count": 6,
      "outputs": [
        {
          "output_type": "display_data",
          "data": {
            "text/plain": [
              "<Figure size 720x504 with 1 Axes>"
            ],
            "image/png": "[encoded data removed]"
          },
          "metadata": {
            "needs_background": "light"
          }
        }
      ]
    },
    {
      "cell_type": "markdown",
      "source": [
        "### Build a model"
      ],
      "metadata": {
        "id": "rD1d4yWlPLih"
      }
    },
    {
      "cell_type": "markdown",
      "source": [
        "- `nn.Module` contains the larger building blocks (layers)\n",
        "\n",
        "- `nn.Parameter` contains the smaller parameters like weights and biases (put these together to make nn.Module(s))\n",
        "\n",
        "- `forward()` tells the larger blocks how to make calculations on inputs (tensors full of data) within nn.Module(s)\n",
        "\n",
        "- `torch.optim` contains optimization methods on how to improve the parameters within nn.Parameter to better represent input data"
      ],
      "metadata": {
        "id": "ys212dkcV4Rb"
      }
    },
    {
      "cell_type": "code",
      "source": [
        "class LinearRegressionModel(nn.Module): # almost everything in Pytorch inherits from nn module\n",
        "  \n",
        "  def __init__(self):\n",
        "    super().__init__()\n",
        "    self.weights = nn.Parameter(torch.randn(1,\n",
        "                                            requires_grad=True,\n",
        "                                            dtype=torch.float))\n",
        "    self.bias = nn.Parameter(torch.randn(1,\n",
        "                                         requires_grad=True,\n",
        "                                         dtype=torch.float))\n",
        "    \n",
        "  def forward(self, x: torch.Tensor) -> torch.Tensor: # x is input data\n",
        "    return self.weights * x + self.bias\n",
        "\n"
      ],
      "metadata": {
        "id": "eWMqNTcmOoiy"
      },
      "execution_count": 7,
      "outputs": []
    },
    {
      "cell_type": "code",
      "source": [
        "# torch.manual_seed(42)\n",
        "torch.randn(1)"
      ],
      "metadata": {
        "colab": {
          "base_uri": "https://localhost:8080/"
        },
        "id": "S7x8h0vNX5Qr",
        "outputId": "e9983c02-7a25-494f-aad5-388874016c3c"
      },
      "execution_count": 8,
      "outputs": [
        {
          "output_type": "execute_result",
          "data": {
            "text/plain": [
              "tensor([-0.1082])"
            ]
          },
          "metadata": {},
          "execution_count": 8
        }
      ]
    },
    {
      "cell_type": "code",
      "source": [
        "# random seed\n",
        "torch.manual_seed(42)\n",
        "\n",
        "model_0 = LinearRegressionModel()\n",
        "\n",
        "list(model_0.parameters())"
      ],
      "metadata": {
        "colab": {
          "base_uri": "https://localhost:8080/"
        },
        "id": "thUof-I3U6ok",
        "outputId": "a2ec33c7-8b8c-4659-9ebf-bc345f35bcce"
      },
      "execution_count": 9,
      "outputs": [
        {
          "output_type": "execute_result",
          "data": {
            "text/plain": [
              "[Parameter containing:\n",
              " tensor([0.3367], requires_grad=True), Parameter containing:\n",
              " tensor([0.1288], requires_grad=True)]"
            ]
          },
          "metadata": {},
          "execution_count": 9
        }
      ]
    },
    {
      "cell_type": "code",
      "source": [
        "model_0.state_dict()"
      ],
      "metadata": {
        "colab": {
          "base_uri": "https://localhost:8080/"
        },
        "id": "PGrtKlEcXfoG",
        "outputId": "42636698-672b-4e57-cb2e-10aad10551d9"
      },
      "execution_count": 10,
      "outputs": [
        {
          "output_type": "execute_result",
          "data": {
            "text/plain": [
              "OrderedDict([('weights', tensor([0.3367])), ('bias', tensor([0.1288]))])"
            ]
          },
          "metadata": {},
          "execution_count": 10
        }
      ]
    },
    {
      "cell_type": "code",
      "source": [
        "# original data\n",
        "weight, bias"
      ],
      "metadata": {
        "colab": {
          "base_uri": "https://localhost:8080/"
        },
        "id": "atgP93RhYgRz",
        "outputId": "cfccfa96-e2e2-470d-8f46-1cce460f9c91"
      },
      "execution_count": 11,
      "outputs": [
        {
          "output_type": "execute_result",
          "data": {
            "text/plain": [
              "(0.7, 0.3)"
            ]
          },
          "metadata": {},
          "execution_count": 11
        }
      ]
    },
    {
      "cell_type": "markdown",
      "source": [
        "#### PyTorch inference model reference - [Link](https://twitter.com/pytorch/status/1437838231505096708)"
      ],
      "metadata": {
        "id": "CzzEeXTKiVX9"
      }
    },
    {
      "cell_type": "code",
      "source": [
        "with torch.inference_mode():\n",
        "  y_preds = model_0(X_test)\n",
        "\n",
        "y_preds"
      ],
      "metadata": {
        "colab": {
          "base_uri": "https://localhost:8080/"
        },
        "id": "tGUxm_k0ZGXA",
        "outputId": "ed458a58-a2e6-4bf9-cd88-2b37f06fae5a"
      },
      "execution_count": 12,
      "outputs": [
        {
          "output_type": "execute_result",
          "data": {
            "text/plain": [
              "tensor([[0.3982],\n",
              "        [0.4049],\n",
              "        [0.4116],\n",
              "        [0.4184],\n",
              "        [0.4251],\n",
              "        [0.4318],\n",
              "        [0.4386],\n",
              "        [0.4453],\n",
              "        [0.4520],\n",
              "        [0.4588]])"
            ]
          },
          "metadata": {},
          "execution_count": 12
        }
      ]
    },
    {
      "cell_type": "code",
      "source": [
        "plot_predictions(predictions=y_preds)"
      ],
      "metadata": {
        "colab": {
          "base_uri": "https://localhost:8080/",
          "height": 428
        },
        "id": "BrcSr3rvZmtI",
        "outputId": "a6585fa0-27fd-49fd-c6d0-7ce3884a4113"
      },
      "execution_count": 13,
      "outputs": [
        {
          "output_type": "display_data",
          "data": {
            "text/plain": [
              "<Figure size 720x504 with 1 Axes>"
            ],
            "image/png": "[encoded data removed]"
          },
          "metadata": {
            "needs_background": "light"
          }
        }
      ]
    },
    {
      "cell_type": "markdown",
      "source": [
        "### Train model\n",
        "\n",
        "\n",
        "- **Loss function**: also known as criterion "
      ],
      "metadata": {
        "id": "hWa3OiO0i9JO"
      }
    },
    {
      "cell_type": "code",
      "source": [
        "# loss function\n",
        "\n",
        "loss_fn = nn.L1Loss() # Mean Absolute Error (MAE)\n",
        "\n",
        "# an optimizer\n",
        "optimizer = torch.optim.SGD(params=model_0.parameters(),\n",
        "                            lr=0.01)"
      ],
      "metadata": {
        "id": "r6LCskTtaXb1"
      },
      "execution_count": 14,
      "outputs": []
    },
    {
      "cell_type": "code",
      "source": [
        "epochs = 500\n",
        "\n",
        "epoch_count = []\n",
        "loss_values = []\n",
        "test_loss_values = []\n",
        "\n",
        "for epoch in range(epochs):\n",
        "  # set the model to training mode\n",
        "  model_0.train() # train model sets all parameters that require gradients to require gradients \n",
        "\n",
        "  # Forward pass\n",
        "  y_pred = model_0(X_train)\n",
        "\n",
        "  # Loss\n",
        "  loss = loss_fn(y_pred, y_train)\n",
        "  # print(f'Loss: {loss}')\n",
        "\n",
        "  # optimizer\n",
        "  optimizer.zero_grad() # to avoid accumulation of gradients \n",
        "\n",
        "  # backpropogation\n",
        "  loss.backward()\n",
        "\n",
        "  # step the optimizer (perform gradient descent)\n",
        "  optimizer.step()\n",
        "\n",
        "  # Testing\n",
        "  model_0.eval()\n",
        "  with torch.inference_mode(): # turn off gradient tracking and more\n",
        "    # forward pass\n",
        "    test_pred =  model_0(X_test)\n",
        "\n",
        "    # calculate the loss\n",
        "    test_loss = loss_fn(test_pred, y_test)\n",
        "\n",
        "  if epoch % 10 == 0:\n",
        "    epoch_count.append(epoch)\n",
        "    loss_values.append(loss.detach().numpy())\n",
        "    test_loss_values.append(test_loss.detach().numpy())\n",
        "    print(f\"Epoch: {epoch} | Loss: {loss} | Test loss: {test_loss}\")\n",
        "    # print(model_0.state_dict())"
      ],
      "metadata": {
        "colab": {
          "base_uri": "https://localhost:8080/"
        },
        "id": "INCoqm-MUXEl",
        "outputId": "3c28fe54-d4e4-4905-b857-8d52a6613728"
      },
      "execution_count": 15,
      "outputs": [
        {
          "output_type": "stream",
          "name": "stdout",
          "text": [
            "Epoch: 0 | Loss: 0.31288138031959534 | Test loss: 0.48106518387794495\n",
            "Epoch: 10 | Loss: 0.1976713240146637 | Test loss: 0.3463551998138428\n",
            "Epoch: 20 | Loss: 0.08908725529909134 | Test loss: 0.21729660034179688\n",
            "Epoch: 30 | Loss: 0.053148526698350906 | Test loss: 0.14464017748832703\n",
            "Epoch: 40 | Loss: 0.04543796554207802 | Test loss: 0.11360953003168106\n",
            "Epoch: 50 | Loss: 0.04167863354086876 | Test loss: 0.09919948130846024\n",
            "Epoch: 60 | Loss: 0.03818932920694351 | Test loss: 0.08886633068323135\n",
            "Epoch: 70 | Loss: 0.03476089984178543 | Test loss: 0.0805937647819519\n",
            "Epoch: 80 | Loss: 0.03132382780313492 | Test loss: 0.07232122868299484\n",
            "Epoch: 90 | Loss: 0.02788739837706089 | Test loss: 0.06473556160926819\n",
            "Epoch: 100 | Loss: 0.024458957836031914 | Test loss: 0.05646304413676262\n",
            "Epoch: 110 | Loss: 0.021020207554101944 | Test loss: 0.04819049686193466\n",
            "Epoch: 120 | Loss: 0.01758546568453312 | Test loss: 0.04060482233762741\n",
            "Epoch: 130 | Loss: 0.014155393466353416 | Test loss: 0.03233227878808975\n",
            "Epoch: 140 | Loss: 0.010716589167714119 | Test loss: 0.024059748277068138\n",
            "Epoch: 150 | Loss: 0.0072835334576666355 | Test loss: 0.016474086791276932\n",
            "Epoch: 160 | Loss: 0.0038517764769494534 | Test loss: 0.008201557211577892\n",
            "Epoch: 170 | Loss: 0.008932482451200485 | Test loss: 0.005023092031478882\n",
            "Epoch: 180 | Loss: 0.008932482451200485 | Test loss: 0.005023092031478882\n",
            "Epoch: 190 | Loss: 0.008932482451200485 | Test loss: 0.005023092031478882\n",
            "Epoch: 200 | Loss: 0.008932482451200485 | Test loss: 0.005023092031478882\n",
            "Epoch: 210 | Loss: 0.008932482451200485 | Test loss: 0.005023092031478882\n",
            "Epoch: 220 | Loss: 0.008932482451200485 | Test loss: 0.005023092031478882\n",
            "Epoch: 230 | Loss: 0.008932482451200485 | Test loss: 0.005023092031478882\n",
            "Epoch: 240 | Loss: 0.008932482451200485 | Test loss: 0.005023092031478882\n",
            "Epoch: 250 | Loss: 0.008932482451200485 | Test loss: 0.005023092031478882\n",
            "Epoch: 260 | Loss: 0.008932482451200485 | Test loss: 0.005023092031478882\n",
            "Epoch: 270 | Loss: 0.008932482451200485 | Test loss: 0.005023092031478882\n",
            "Epoch: 280 | Loss: 0.008932482451200485 | Test loss: 0.005023092031478882\n",
            "Epoch: 290 | Loss: 0.008932482451200485 | Test loss: 0.005023092031478882\n",
            "Epoch: 300 | Loss: 0.008932482451200485 | Test loss: 0.005023092031478882\n",
            "Epoch: 310 | Loss: 0.008932482451200485 | Test loss: 0.005023092031478882\n",
            "Epoch: 320 | Loss: 0.008932482451200485 | Test loss: 0.005023092031478882\n",
            "Epoch: 330 | Loss: 0.008932482451200485 | Test loss: 0.005023092031478882\n",
            "Epoch: 340 | Loss: 0.008932482451200485 | Test loss: 0.005023092031478882\n",
            "Epoch: 350 | Loss: 0.008932482451200485 | Test loss: 0.005023092031478882\n",
            "Epoch: 360 | Loss: 0.008932482451200485 | Test loss: 0.005023092031478882\n",
            "Epoch: 370 | Loss: 0.008932482451200485 | Test loss: 0.005023092031478882\n",
            "Epoch: 380 | Loss: 0.008932482451200485 | Test loss: 0.005023092031478882\n",
            "Epoch: 390 | Loss: 0.008932482451200485 | Test loss: 0.005023092031478882\n",
            "Epoch: 400 | Loss: 0.008932482451200485 | Test loss: 0.005023092031478882\n",
            "Epoch: 410 | Loss: 0.008932482451200485 | Test loss: 0.005023092031478882\n",
            "Epoch: 420 | Loss: 0.008932482451200485 | Test loss: 0.005023092031478882\n",
            "Epoch: 430 | Loss: 0.008932482451200485 | Test loss: 0.005023092031478882\n",
            "Epoch: 440 | Loss: 0.008932482451200485 | Test loss: 0.005023092031478882\n",
            "Epoch: 450 | Loss: 0.008932482451200485 | Test loss: 0.005023092031478882\n",
            "Epoch: 460 | Loss: 0.008932482451200485 | Test loss: 0.005023092031478882\n",
            "Epoch: 470 | Loss: 0.008932482451200485 | Test loss: 0.005023092031478882\n",
            "Epoch: 480 | Loss: 0.008932482451200485 | Test loss: 0.005023092031478882\n",
            "Epoch: 490 | Loss: 0.008932482451200485 | Test loss: 0.005023092031478882\n"
          ]
        }
      ]
    },
    {
      "cell_type": "code",
      "source": [
        "model_0.state_dict()"
      ],
      "metadata": {
        "colab": {
          "base_uri": "https://localhost:8080/"
        },
        "id": "DSmcrv3faWEZ",
        "outputId": "e00854e5-ec22-45d5-9ccc-1bff0eadc663"
      },
      "execution_count": 16,
      "outputs": [
        {
          "output_type": "execute_result",
          "data": {
            "text/plain": [
              "OrderedDict([('weights', tensor([0.6990])), ('bias', tensor([0.3093]))])"
            ]
          },
          "metadata": {},
          "execution_count": 16
        }
      ]
    },
    {
      "cell_type": "code",
      "source": [
        "# Plot the loss curve\n",
        "plt.plot(epoch_count, loss_values, label='Train')\n",
        "plt.plot(epoch_count, test_loss_values, label=\"Test\")\n",
        "plt.title(\"Training and test loss curve\")\n",
        "plt.xlabel(\"Epochs\")\n",
        "plt.ylabel('Loss')\n",
        "plt.legend()\n",
        "plt.plot()"
      ],
      "metadata": {
        "colab": {
          "base_uri": "https://localhost:8080/",
          "height": 313
        },
        "id": "W08QD4GWfNZE",
        "outputId": "3f1cc2c0-3236-43dd-81cd-b53080d8b5a8"
      },
      "execution_count": 17,
      "outputs": [
        {
          "output_type": "execute_result",
          "data": {
            "text/plain": [
              "[]"
            ]
          },
          "metadata": {},
          "execution_count": 17
        },
        {
          "output_type": "display_data",
          "data": {
            "text/plain": [
              "<Figure size 432x288 with 1 Axes>"
            ],
            "image/png": "[encoded data removed]"
          },
          "metadata": {
            "needs_background": "light"
          }
        }
      ]
    },
    {
      "cell_type": "code",
      "source": [
        "with torch.inference_mode():\n",
        "  y_preds_new = model_0(X_test)\n",
        "\n",
        "plot_predictions(predictions=y_preds_new)"
      ],
      "metadata": {
        "colab": {
          "base_uri": "https://localhost:8080/",
          "height": 428
        },
        "id": "_jdmZKjZadxK",
        "outputId": "e9cbf19a-7e34-4f58-bb57-96f35d7b3801"
      },
      "execution_count": 18,
      "outputs": [
        {
          "output_type": "display_data",
          "data": {
            "text/plain": [
              "<Figure size 720x504 with 1 Axes>"
            ],
            "image/png": "[encoded data removed]"
          },
          "metadata": {
            "needs_background": "light"
          }
        }
      ]
    },
    {
      "cell_type": "markdown",
      "source": [
        "### Saving a Model\n",
        "\n",
        "- `torch.save()` - save a pytorch object in a pickle format\n",
        "- `torch.load()` - load saved pytorch object\n",
        "- `torch.nn.Module.load_state_dict()` - loads a model's saved state dictionary"
      ],
      "metadata": {
        "id": "7kXUlQqwjEOY"
      }
    },
    {
      "cell_type": "code",
      "source": [
        "from pathlib import Path\n",
        "\n",
        "# create models directory\n",
        "MODEL_PATH = Path(\"models\")\n",
        "MODEL_PATH.mkdir(parents=True, exist_ok=True)\n",
        "\n",
        "# save path\n",
        "MODEL_NAME = '0.1_pytorch_workflow.pt'\n",
        "MODEL_SAVE_PATH = MODEL_PATH / MODEL_NAME\n",
        "\n",
        "# save model dict\n",
        "torch.save(obj=model_0.state_dict(), f=MODEL_SAVE_PATH) "
      ],
      "metadata": {
        "id": "-pyGCwNxbW0z"
      },
      "execution_count": 19,
      "outputs": []
    },
    {
      "cell_type": "markdown",
      "source": [
        "### Load a model"
      ],
      "metadata": {
        "id": "m2D3CK5smIaU"
      }
    },
    {
      "cell_type": "code",
      "source": [
        "loaded_model_0 = LinearRegressionModel()\n",
        "\n",
        "# load the saved model\n",
        "loaded_model_0.load_state_dict(torch.load(f=MODEL_SAVE_PATH))"
      ],
      "metadata": {
        "colab": {
          "base_uri": "https://localhost:8080/"
        },
        "id": "ASY6o8JFlPKV",
        "outputId": "e15c4671-d717-4b0f-c55f-47beb5f2a551"
      },
      "execution_count": 20,
      "outputs": [
        {
          "output_type": "execute_result",
          "data": {
            "text/plain": [
              "<All keys matched successfully>"
            ]
          },
          "metadata": {},
          "execution_count": 20
        }
      ]
    },
    {
      "cell_type": "code",
      "source": [
        "loaded_model_0.state_dict()"
      ],
      "metadata": {
        "colab": {
          "base_uri": "https://localhost:8080/"
        },
        "id": "ymN2laCRm8nK",
        "outputId": "aa56c238-88a4-460e-955f-b5887d1670a9"
      },
      "execution_count": 21,
      "outputs": [
        {
          "output_type": "execute_result",
          "data": {
            "text/plain": [
              "OrderedDict([('weights', tensor([0.6990])), ('bias', tensor([0.3093]))])"
            ]
          },
          "metadata": {},
          "execution_count": 21
        }
      ]
    },
    {
      "cell_type": "code",
      "source": [
        "loaded_model_0.eval()\n",
        "with torch.inference_mode():\n",
        "  loaded_model_preds = loaded_model_0(X_test)\n",
        "\n",
        "loaded_model_preds"
      ],
      "metadata": {
        "colab": {
          "base_uri": "https://localhost:8080/"
        },
        "id": "uH3nJtjBnBcf",
        "outputId": "bc77e7a1-7867-4f13-9233-4c6148ebf049"
      },
      "execution_count": 22,
      "outputs": [
        {
          "output_type": "execute_result",
          "data": {
            "text/plain": [
              "tensor([[0.8685],\n",
              "        [0.8825],\n",
              "        [0.8965],\n",
              "        [0.9105],\n",
              "        [0.9245],\n",
              "        [0.9384],\n",
              "        [0.9524],\n",
              "        [0.9664],\n",
              "        [0.9804],\n",
              "        [0.9944]])"
            ]
          },
          "metadata": {},
          "execution_count": 22
        }
      ]
    },
    {
      "cell_type": "markdown",
      "source": [
        "## Putting it all together"
      ],
      "metadata": {
        "id": "j0qINxwhoAUO"
      }
    },
    {
      "cell_type": "code",
      "source": [
        "import torch\n",
        "from torch import nn\n",
        "import numpy as np\n",
        "import matplotlib.pyplot as plt\n",
        "from pathlib import Path"
      ],
      "metadata": {
        "id": "IGm21NMUnTc2"
      },
      "execution_count": 1,
      "outputs": []
    },
    {
      "cell_type": "markdown",
      "source": [
        "### Data loading"
      ],
      "metadata": {
        "id": "Hqg7E4NUopQs"
      }
    },
    {
      "cell_type": "code",
      "source": [
        "X = torch.arange(start=0, end=1, step=0.02).unsqueeze(dim=1)\n",
        "\n",
        "weights = 0.3\n",
        "bias = 0.6\n",
        "\n",
        "y = weights * X + bias\n",
        "\n",
        "print(f'Total data size: {len(X)}')\n"
      ],
      "metadata": {
        "colab": {
          "base_uri": "https://localhost:8080/"
        },
        "id": "sYozLLKHon60",
        "outputId": "8b8f97c1-a30e-489e-e6ee-21758ff26a6b"
      },
      "execution_count": 2,
      "outputs": [
        {
          "output_type": "stream",
          "name": "stdout",
          "text": [
            "Total data size: 50\n"
          ]
        }
      ]
    },
    {
      "cell_type": "code",
      "source": [
        "samples = int(0.8*len(X))\n",
        "\n",
        "x_train, y_train = X[:samples], y[:samples]\n",
        "x_test, y_test = X[samples:], y[samples:]\n",
        "\n",
        "print(f'Data split size | train: {len(x_train)} | test: {len(x_test)}')"
      ],
      "metadata": {
        "colab": {
          "base_uri": "https://localhost:8080/"
        },
        "id": "q94kS9hbo_jF",
        "outputId": "14eac451-5875-4a42-fc88-a109bd7d1c52"
      },
      "execution_count": 3,
      "outputs": [
        {
          "output_type": "stream",
          "name": "stdout",
          "text": [
            "Data split size | train: 40 | test: 10\n"
          ]
        }
      ]
    },
    {
      "cell_type": "code",
      "source": [
        "def plot_predictions (train_data=x_train, \n",
        "                      train_labels=y_train,\n",
        "                      test_data = x_test,\n",
        "                      test_labels=y_test,\n",
        "                      predictions=None):\n",
        "  '''\n",
        "  Plot training data, test data, and compares predictions\n",
        "  '''\n",
        "\n",
        "  plt.figure(figsize=(10,7))\n",
        "\n",
        "  plt.scatter(train_data, train_labels, c='b', s=4, label=\"Training data\")\n",
        "\n",
        "  plt.scatter(test_data, test_labels, c='g', s=4, label=\"Test data\")\n",
        "\n",
        "  if predictions is not None:\n",
        "    plt.scatter(test_data, predictions, c='r', s= 4, label=\"Predictions\")\n",
        "\n",
        "  plt.legend(prop={\"size\":14})"
      ],
      "metadata": {
        "id": "u9mgy5El3enF"
      },
      "execution_count": 4,
      "outputs": []
    },
    {
      "cell_type": "markdown",
      "source": [
        "### Plot input data"
      ],
      "metadata": {
        "id": "-065BjEI3iLV"
      }
    },
    {
      "cell_type": "code",
      "source": [
        "plot_predictions()"
      ],
      "metadata": {
        "colab": {
          "base_uri": "https://localhost:8080/",
          "height": 428
        },
        "id": "xRZ7RVoE3k9E",
        "outputId": "9d00d9fe-393f-4a5e-c224-1b03b49aca90"
      },
      "execution_count": 5,
      "outputs": [
        {
          "output_type": "display_data",
          "data": {
            "text/plain": [
              "<Figure size 720x504 with 1 Axes>"
            ],
            "image/png": "[encoded data removed]"
          },
          "metadata": {
            "needs_background": "light"
          }
        }
      ]
    },
    {
      "cell_type": "markdown",
      "source": [
        "### Model"
      ],
      "metadata": {
        "id": "iAwiW2W8p-x3"
      }
    },
    {
      "cell_type": "code",
      "source": [
        "# class LinearRegressionModel_00(nn.Module):\n",
        "\n",
        "#   def __init__(self):\n",
        "#     super().__init__()\n",
        "\n",
        "#     self.weights = nn.Parameter(torch.randn(1,\n",
        "#                                 requires_grad=True))\n",
        "    \n",
        "#     self.bias = nn.Parameter(torch.randn(1,\n",
        "#                                          requires_grad=True))\n",
        "    \n",
        "#   def forward(self, x):\n",
        "#     return self.weights * x + self.bias\n"
      ],
      "metadata": {
        "id": "PAdMf0neqARK"
      },
      "execution_count": 6,
      "outputs": []
    },
    {
      "cell_type": "code",
      "source": [
        "class LinearRegressionModel_00(nn.Module):\n",
        "\n",
        "  def __init__(self):\n",
        "    super().__init__()\n",
        "\n",
        "    # linear transformation y=aX+b, and also set weights and biases by default\n",
        "    self.linear_layer = nn.Linear(in_features=1,\n",
        "                                  out_features=1)\n",
        "    \n",
        "  def forward(self, x):\n",
        "    return self.linear_layer(x)"
      ],
      "metadata": {
        "id": "W2ZUaIBY0xhS"
      },
      "execution_count": 7,
      "outputs": []
    },
    {
      "cell_type": "code",
      "source": [
        "torch.manual_seed(42)\n",
        "\n",
        "model_00 = LinearRegressionModel_00()\n",
        "\n",
        "model_00.state_dict()"
      ],
      "metadata": {
        "colab": {
          "base_uri": "https://localhost:8080/"
        },
        "id": "4cmRWIvcr5yl",
        "outputId": "2342ca93-2090-4b58-cd7d-1845d367baaa"
      },
      "execution_count": 8,
      "outputs": [
        {
          "output_type": "execute_result",
          "data": {
            "text/plain": [
              "OrderedDict([('linear_layer.weight', tensor([[0.7645]])),\n",
              "             ('linear_layer.bias', tensor([0.8300]))])"
            ]
          },
          "metadata": {},
          "execution_count": 8
        }
      ]
    },
    {
      "cell_type": "code",
      "source": [
        "loss_fn_00 = nn.L1Loss()\n",
        "\n",
        "optimizer_00 = torch.optim.SGD(model_00.parameters(), \n",
        "                               lr = 0.01)"
      ],
      "metadata": {
        "id": "Ynfqzis9s5Mi"
      },
      "execution_count": 9,
      "outputs": []
    },
    {
      "cell_type": "markdown",
      "source": [
        "### Train"
      ],
      "metadata": {
        "id": "ihCrTBJXptHh"
      }
    },
    {
      "cell_type": "code",
      "source": [
        "epochs = 500\n",
        "\n",
        "epoch_count = []\n",
        "loss_values = []\n",
        "test_loss_values = []\n",
        "\n",
        "for epoch in range(epochs):\n",
        "  model_00.train()\n",
        "\n",
        "  y_pred = model_00(x_train)\n",
        "\n",
        "  loss = loss_fn_00(y_pred, y_train)\n",
        "\n",
        "  optimizer_00.zero_grad()\n",
        "\n",
        "  loss.backward()\n",
        "\n",
        "  optimizer_00.step()\n",
        "\n",
        "  #test\n",
        "  model_00.eval()\n",
        "  with torch.inference_mode():\n",
        "    test_pred = model_00(x_test)\n",
        "\n",
        "    # loss\n",
        "    test_loss = loss_fn_00(test_pred, y_test)\n",
        "\n",
        "\n",
        "  if epoch % 10 == 0:\n",
        "    print(f\"Loss: {loss} | test_loss = {test_loss}\")\n",
        "    epoch_count.append(epoch)\n",
        "    loss_values.append(loss.detach().numpy())\n",
        "    test_loss_values.append(test_loss.detach().numpy())\n"
      ],
      "metadata": {
        "colab": {
          "base_uri": "https://localhost:8080/"
        },
        "id": "iuZq_Z8rpqwl",
        "outputId": "0e51dee6-402e-4858-afd1-77933679f24b"
      },
      "execution_count": 10,
      "outputs": [
        {
          "output_type": "stream",
          "name": "stdout",
          "text": [
            "Loss: 0.41117793321609497 | test_loss = 0.629976212978363\n",
            "Loss: 0.29596802592277527 | test_loss = 0.4952663481235504\n",
            "Loss: 0.18075816333293915 | test_loss = 0.36055654287338257\n",
            "Loss: 0.09276367723941803 | test_loss = 0.24520985782146454\n",
            "Loss: 0.06624828279018402 | test_loss = 0.1814330518245697\n",
            "Loss: 0.058458346873521805 | test_loss = 0.14907316863536835\n",
            "Loss: 0.05426899716258049 | test_loss = 0.13129112124443054\n",
            "Loss: 0.05077900364995003 | test_loss = 0.12027108669281006\n",
            "Loss: 0.047298990190029144 | test_loss = 0.10993792861700058\n",
            "Loss: 0.04386298730969429 | test_loss = 0.10166557133197784\n",
            "Loss: 0.040425464510917664 | test_loss = 0.09408005326986313\n",
            "Loss: 0.03699700906872749 | test_loss = 0.0858076959848404\n",
            "Loss: 0.03355933725833893 | test_loss = 0.07753533869981766\n",
            "Loss: 0.030123483389616013 | test_loss = 0.06994982063770294\n",
            "Loss: 0.026694511994719505 | test_loss = 0.061677463352680206\n",
            "Loss: 0.023255692794919014 | test_loss = 0.053405094891786575\n",
            "Loss: 0.019821500405669212 | test_loss = 0.045819588005542755\n",
            "Loss: 0.016390860080718994 | test_loss = 0.03754723072052002\n",
            "Loss: 0.012952041812241077 | test_loss = 0.029274875298142433\n",
            "Loss: 0.009519529528915882 | test_loss = 0.021689344197511673\n",
            "Loss: 0.006087218411266804 | test_loss = 0.01341698132455349\n",
            "Loss: 0.0026788159739226103 | test_loss = 0.006553947925567627\n",
            "Loss: 0.00669452827423811 | test_loss = 0.009720509871840477\n",
            "Loss: 0.00669452827423811 | test_loss = 0.009720509871840477\n",
            "Loss: 0.00669452827423811 | test_loss = 0.009720509871840477\n",
            "Loss: 0.00669452827423811 | test_loss = 0.009720509871840477\n",
            "Loss: 0.00669452827423811 | test_loss = 0.009720509871840477\n",
            "Loss: 0.00669452827423811 | test_loss = 0.009720509871840477\n",
            "Loss: 0.00669452827423811 | test_loss = 0.009720509871840477\n",
            "Loss: 0.00669452827423811 | test_loss = 0.009720509871840477\n",
            "Loss: 0.00669452827423811 | test_loss = 0.009720509871840477\n",
            "Loss: 0.00669452827423811 | test_loss = 0.009720509871840477\n",
            "Loss: 0.00669452827423811 | test_loss = 0.009720509871840477\n",
            "Loss: 0.00669452827423811 | test_loss = 0.009720509871840477\n",
            "Loss: 0.00669452827423811 | test_loss = 0.009720509871840477\n",
            "Loss: 0.00669452827423811 | test_loss = 0.009720509871840477\n",
            "Loss: 0.00669452827423811 | test_loss = 0.009720509871840477\n",
            "Loss: 0.00669452827423811 | test_loss = 0.009720509871840477\n",
            "Loss: 0.00669452827423811 | test_loss = 0.009720509871840477\n",
            "Loss: 0.00669452827423811 | test_loss = 0.009720509871840477\n",
            "Loss: 0.00669452827423811 | test_loss = 0.009720509871840477\n",
            "Loss: 0.00669452827423811 | test_loss = 0.009720509871840477\n",
            "Loss: 0.00669452827423811 | test_loss = 0.009720509871840477\n",
            "Loss: 0.00669452827423811 | test_loss = 0.009720509871840477\n",
            "Loss: 0.00669452827423811 | test_loss = 0.009720509871840477\n",
            "Loss: 0.00669452827423811 | test_loss = 0.009720509871840477\n",
            "Loss: 0.00669452827423811 | test_loss = 0.009720509871840477\n",
            "Loss: 0.00669452827423811 | test_loss = 0.009720509871840477\n",
            "Loss: 0.00669452827423811 | test_loss = 0.009720509871840477\n",
            "Loss: 0.00669452827423811 | test_loss = 0.009720509871840477\n"
          ]
        }
      ]
    },
    {
      "cell_type": "markdown",
      "source": [
        "### Plot"
      ],
      "metadata": {
        "id": "B1JWLW94wF12"
      }
    },
    {
      "cell_type": "code",
      "source": [
        "# plot train and test curve\n",
        "\n",
        "plt.plot(epoch_count, loss_values, c='r')\n",
        "plt.plot(epoch_count, test_loss_values, c='b')\n",
        "plt.title(\"Train and Test curve\")\n",
        "plt.xlabel(\"Epochs\")\n",
        "plt.ylabel(\"Loss\")\n",
        "plt.legend()\n",
        "plt.plot()"
      ],
      "metadata": {
        "colab": {
          "base_uri": "https://localhost:8080/",
          "height": 331
        },
        "id": "kQfwob0UvZs1",
        "outputId": "10ad8e22-5df3-4e2b-a9b8-181e8605a6ae"
      },
      "execution_count": 11,
      "outputs": [
        {
          "output_type": "stream",
          "name": "stderr",
          "text": [
            "WARNING:matplotlib.legend:No handles with labels found to put in legend.\n"
          ]
        },
        {
          "output_type": "execute_result",
          "data": {
            "text/plain": [
              "[]"
            ]
          },
          "metadata": {},
          "execution_count": 11
        },
        {
          "output_type": "display_data",
          "data": {
            "text/plain": [
              "<Figure size 432x288 with 1 Axes>"
            ],
            "image/png": "[encoded data removed]"
          },
          "metadata": {
            "needs_background": "light"
          }
        }
      ]
    },
    {
      "cell_type": "code",
      "source": [
        "plot_predictions(predictions=test_pred)"
      ],
      "metadata": {
        "colab": {
          "base_uri": "https://localhost:8080/",
          "height": 428
        },
        "id": "9jOMqZUM3qnU",
        "outputId": "9c56f82c-dc13-457e-efff-c06149e7c8c0"
      },
      "execution_count": 12,
      "outputs": [
        {
          "output_type": "display_data",
          "data": {
            "text/plain": [
              "<Figure size 720x504 with 1 Axes>"
            ],
            "image/png": "[encoded data removed]"
          },
          "metadata": {
            "needs_background": "light"
          }
        }
      ]
    },
    {
      "cell_type": "markdown",
      "source": [
        "### Save model"
      ],
      "metadata": {
        "id": "jnQD9FWfwHUG"
      }
    },
    {
      "cell_type": "code",
      "source": [
        "\n",
        "MODEL_PATH = Path('models', )\n",
        "MODEL_PATH.mkdir(parents=True, exist_ok=True)\n",
        "MODEL_NAME = \"01_pytorch_workflow_00.pt\"\n",
        "MODEL_SAVE_PATH = MODEL_PATH / MODEL_NAME\n",
        "\n",
        "torch.save(model_00.state_dict(), MODEL_SAVE_PATH)\n",
        "\n",
        " "
      ],
      "metadata": {
        "id": "Hdxrg-CbwDMW"
      },
      "execution_count": 13,
      "outputs": []
    },
    {
      "cell_type": "markdown",
      "source": [
        "### Load model"
      ],
      "metadata": {
        "id": "nWIozDlHxNRd"
      }
    },
    {
      "cell_type": "code",
      "source": [
        "loaded_model_00 = LinearRegressionModel_00()\n",
        "\n",
        "loaded_model_00.load_state_dict(torch.load(MODEL_SAVE_PATH))\n",
        "\n",
        "loaded_model_00.state_dict()"
      ],
      "metadata": {
        "colab": {
          "base_uri": "https://localhost:8080/"
        },
        "id": "8-gCdzkWxCcC",
        "outputId": "6395bf1f-fd1c-47dd-ea7b-98437a325dfb"
      },
      "execution_count": 14,
      "outputs": [
        {
          "output_type": "execute_result",
          "data": {
            "text/plain": [
              "OrderedDict([('linear_layer.weight', tensor([[0.3059]])),\n",
              "             ('linear_layer.bias', tensor([0.5910]))])"
            ]
          },
          "metadata": {},
          "execution_count": 14
        }
      ]
    },
    {
      "cell_type": "code",
      "source": [
        "with torch.inference_mode():\n",
        "  loaded_model_00_pred = loaded_model_00(x_test)\n",
        "\n",
        "plot_predictions(predictions=loaded_model_00_pred)"
      ],
      "metadata": {
        "colab": {
          "base_uri": "https://localhost:8080/",
          "height": 428
        },
        "id": "MFyGbmmg0mBb",
        "outputId": "4bfb3884-04ad-4e8c-9ad1-ead48c3e31c2"
      },
      "execution_count": 16,
      "outputs": [
        {
          "output_type": "display_data",
          "data": {
            "text/plain": [
              "<Figure size 720x504 with 1 Axes>"
            ],
            "image/png": "[encoded data removed]"
          },
          "metadata": {
            "needs_background": "light"
          }
        }
      ]
    },
    {
      "cell_type": "code",
      "source": [],
      "metadata": {
        "id": "s_GS67a44d3W"
      },
      "execution_count": null,
      "outputs": []
    }
  ]
}