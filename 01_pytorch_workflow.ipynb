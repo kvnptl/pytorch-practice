{
  "nbformat": 4,
  "nbformat_minor": 0,
  "metadata": {
    "colab": {
      "provenance": [],
      "mount_file_id": "1tPGxmRQV1XXW1TZYWkDJ7WGqn0cWlcK6",
      "authorship_tag": "ABX9TyOnubs9Rs3OwLIdpS8csfB2",
      "include_colab_link": true
    },
    "kernelspec": {
      "name": "python3",
      "display_name": "Python 3"
    },
    "language_info": {
      "name": "python"
    },
    "gpuClass": "standard"
  },
  "cells": [
    {
      "cell_type": "markdown",
      "metadata": {
        "id": "view-in-github",
        "colab_type": "text"
      },
      "source": [
        "<a href=\"https://colab.research.google.com/github/kvnptl/pytorch-practice/blob/main/01_pytorch_workflow.ipynb\" target=\"_parent\"><img src=\"https://colab.research.google.com/assets/colab-badge.svg\" alt=\"Open In Colab\"/></a>"
      ]
    },
    {
      "cell_type": "markdown",
      "source": [
        "# PyTorch Workflow\n",
        "\n",
        "[1] My Github repo: https://github.com/kvnptl/pytorch-practice\n",
        "\n",
        "[2] Reference Video: https://www.youtube.com/watch?v=Z_ikDlimN6A&t=83869s \n",
        "\n",
        "[3] Reference Book: https://www.learnpytorch.io/00_pytorch_fundamentals/#creating-tensors \n",
        "\n"
      ],
      "metadata": {
        "id": "-Yt5Z1b35FkF"
      }
    },
    {
      "cell_type": "markdown",
      "source": [
        "# Content\n",
        "\n",
        "- Data (prepare and load)\n",
        "- Build a model\n",
        "- Fitting the data to model (training)\n",
        "- Making prediction and evaluating a model (inference)\n",
        "- Saving and loading model"
      ],
      "metadata": {
        "id": "S_AveqYUGNS_"
      }
    },
    {
      "cell_type": "code",
      "execution_count": 1,
      "metadata": {
        "colab": {
          "base_uri": "https://localhost:8080/"
        },
        "id": "xv_hlMX-25rB",
        "outputId": "207aa4ea-a76f-4fdc-97fc-9607e2fda03c"
      },
      "outputs": [
        {
          "output_type": "stream",
          "name": "stdout",
          "text": [
            "1.13.0+cu116\n"
          ]
        }
      ],
      "source": [
        "import torch\n",
        "from torch import nn\n",
        "import matplotlib.pyplot as plt\n",
        "import numpy as np\n",
        "print(torch.__version__)"
      ]
    },
    {
      "cell_type": "markdown",
      "source": [
        "### Linear regression "
      ],
      "metadata": {
        "id": "xJPpymdUJQdd"
      }
    },
    {
      "cell_type": "code",
      "source": [
        "weight = 0.7\n",
        "bias = 0.3\n",
        "\n",
        "start = 0\n",
        "end = 1\n",
        "step = 0.02\n",
        "\n",
        "# X = torch.arange(start, end, step).unsqueeze(dim=1)\n",
        "X = torch.arange(start, end, step).unsqueeze(dim=1)\n",
        "y = weight * X + bias\n",
        "\n",
        "X[:10], X.shape"
      ],
      "metadata": {
        "colab": {
          "base_uri": "https://localhost:8080/"
        },
        "id": "WeBS6r8XFdJw",
        "outputId": "f95615ef-674b-40ad-f173-f16d66c90424"
      },
      "execution_count": 2,
      "outputs": [
        {
          "output_type": "execute_result",
          "data": {
            "text/plain": [
              "(tensor([[0.0000],\n",
              "         [0.0200],\n",
              "         [0.0400],\n",
              "         [0.0600],\n",
              "         [0.0800],\n",
              "         [0.1000],\n",
              "         [0.1200],\n",
              "         [0.1400],\n",
              "         [0.1600],\n",
              "         [0.1800]]), torch.Size([50, 1]))"
            ]
          },
          "metadata": {},
          "execution_count": 2
        }
      ]
    },
    {
      "cell_type": "code",
      "source": [
        "y[:10], y.shape"
      ],
      "metadata": {
        "colab": {
          "base_uri": "https://localhost:8080/"
        },
        "id": "Z8LmQG1fJy4s",
        "outputId": "e21dc0f1-0e20-43c9-9448-08938e96fdf9"
      },
      "execution_count": 3,
      "outputs": [
        {
          "output_type": "execute_result",
          "data": {
            "text/plain": [
              "(tensor([[0.3000],\n",
              "         [0.3140],\n",
              "         [0.3280],\n",
              "         [0.3420],\n",
              "         [0.3560],\n",
              "         [0.3700],\n",
              "         [0.3840],\n",
              "         [0.3980],\n",
              "         [0.4120],\n",
              "         [0.4260]]), torch.Size([50, 1]))"
            ]
          },
          "metadata": {},
          "execution_count": 3
        }
      ]
    },
    {
      "cell_type": "markdown",
      "source": [
        "#### Split the data"
      ],
      "metadata": {
        "id": "6MNrvSJeKQO7"
      }
    },
    {
      "cell_type": "code",
      "source": [],
      "metadata": {
        "id": "x1v08VqiKFUT"
      },
      "execution_count": 3,
      "outputs": []
    }
  ]
}