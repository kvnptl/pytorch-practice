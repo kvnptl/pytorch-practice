{
  "cells": [
    {
      "cell_type": "markdown",
      "metadata": {
        "colab_type": "text",
        "id": "view-in-github"
      },
      "source": [
        "<a href=\"https://colab.research.google.com/github/kvnptl/pytorch-practice/blob/main/02_neural_netowork_classification.ipynb\" target=\"_parent\"><img src=\"https://colab.research.google.com/assets/colab-badge.svg\" alt=\"Open In Colab\"/></a>"
      ]
    },
    {
      "cell_type": "markdown",
      "metadata": {
        "id": "mbsEXrBdoMij"
      },
      "source": [
        "## 1. Make classification data and get it ready"
      ]
    },
    {
      "cell_type": "code",
      "execution_count": 1,
      "metadata": {
        "id": "V4jiHvGDmu8a"
      },
      "outputs": [],
      "source": [
        "import sklearn\n",
        "from sklearn.datasets import make_circles"
      ]
    },
    {
      "cell_type": "code",
      "execution_count": 2,
      "metadata": {
        "colab": {
          "base_uri": "https://localhost:8080/"
        },
        "id": "oe_wum9Gm_M-",
        "outputId": "69302fa4-b542-4327-b9a9-ca7fd162099b"
      },
      "outputs": [
        {
          "data": {
            "text/plain": [
              "(1000, 1000)"
            ]
          },
          "execution_count": 2,
          "metadata": {},
          "output_type": "execute_result"
        }
      ],
      "source": [
        "n_samples = 1000\n",
        "\n",
        "X, y = make_circles(n_samples,\n",
        "                    noise=0.03,\n",
        "                    random_state=42)\n",
        "\n",
        "len(X), len(y)"
      ]
    },
    {
      "cell_type": "code",
      "execution_count": 3,
      "metadata": {
        "colab": {
          "base_uri": "https://localhost:8080/"
        },
        "id": "SFnVD5NDoqh5",
        "outputId": "fbca0206-6c09-4e00-f4d2-c2499cafeba5"
      },
      "outputs": [
        {
          "name": "stdout",
          "output_type": "stream",
          "text": [
            "first 5 samples of X:\n",
            " [[ 0.75424625  0.23148074]\n",
            " [-0.75615888  0.15325888]\n",
            " [-0.81539193  0.17328203]\n",
            " [-0.39373073  0.69288277]\n",
            " [ 0.44220765 -0.89672343]]\n",
            "first 5 samples of y:\n",
            " [1 1 1 1 0]\n"
          ]
        }
      ],
      "source": [
        "print(f'first 5 samples of X:\\n {X[:5]}')\n",
        "print(f'first 5 samples of y:\\n {y[:5]}')"
      ]
    },
    {
      "cell_type": "code",
      "execution_count": 4,
      "metadata": {
        "colab": {
          "base_uri": "https://localhost:8080/",
          "height": 363
        },
        "id": "coQSQQSPozuV",
        "outputId": "933a5c50-5495-4d7f-c7ad-c2d2f2f51c97"
      },
      "outputs": [
        {
          "data": {
            "text/html": [
              "<div>\n",
              "<style scoped>\n",
              "    .dataframe tbody tr th:only-of-type {\n",
              "        vertical-align: middle;\n",
              "    }\n",
              "\n",
              "    .dataframe tbody tr th {\n",
              "        vertical-align: top;\n",
              "    }\n",
              "\n",
              "    .dataframe thead th {\n",
              "        text-align: right;\n",
              "    }\n",
              "</style>\n",
              "<table border=\"1\" class=\"dataframe\">\n",
              "  <thead>\n",
              "    <tr style=\"text-align: right;\">\n",
              "      <th></th>\n",
              "      <th>X1</th>\n",
              "      <th>X2</th>\n",
              "      <th>y</th>\n",
              "    </tr>\n",
              "  </thead>\n",
              "  <tbody>\n",
              "    <tr>\n",
              "      <th>0</th>\n",
              "      <td>0.754246</td>\n",
              "      <td>0.231481</td>\n",
              "      <td>1</td>\n",
              "    </tr>\n",
              "    <tr>\n",
              "      <th>1</th>\n",
              "      <td>-0.756159</td>\n",
              "      <td>0.153259</td>\n",
              "      <td>1</td>\n",
              "    </tr>\n",
              "    <tr>\n",
              "      <th>2</th>\n",
              "      <td>-0.815392</td>\n",
              "      <td>0.173282</td>\n",
              "      <td>1</td>\n",
              "    </tr>\n",
              "    <tr>\n",
              "      <th>3</th>\n",
              "      <td>-0.393731</td>\n",
              "      <td>0.692883</td>\n",
              "      <td>1</td>\n",
              "    </tr>\n",
              "    <tr>\n",
              "      <th>4</th>\n",
              "      <td>0.442208</td>\n",
              "      <td>-0.896723</td>\n",
              "      <td>0</td>\n",
              "    </tr>\n",
              "    <tr>\n",
              "      <th>5</th>\n",
              "      <td>-0.479646</td>\n",
              "      <td>0.676435</td>\n",
              "      <td>1</td>\n",
              "    </tr>\n",
              "    <tr>\n",
              "      <th>6</th>\n",
              "      <td>-0.013648</td>\n",
              "      <td>0.803349</td>\n",
              "      <td>1</td>\n",
              "    </tr>\n",
              "    <tr>\n",
              "      <th>7</th>\n",
              "      <td>0.771513</td>\n",
              "      <td>0.147760</td>\n",
              "      <td>1</td>\n",
              "    </tr>\n",
              "    <tr>\n",
              "      <th>8</th>\n",
              "      <td>-0.169322</td>\n",
              "      <td>-0.793456</td>\n",
              "      <td>1</td>\n",
              "    </tr>\n",
              "    <tr>\n",
              "      <th>9</th>\n",
              "      <td>-0.121486</td>\n",
              "      <td>1.021509</td>\n",
              "      <td>0</td>\n",
              "    </tr>\n",
              "  </tbody>\n",
              "</table>\n",
              "</div>"
            ],
            "text/plain": [
              "         X1        X2  y\n",
              "0  0.754246  0.231481  1\n",
              "1 -0.756159  0.153259  1\n",
              "2 -0.815392  0.173282  1\n",
              "3 -0.393731  0.692883  1\n",
              "4  0.442208 -0.896723  0\n",
              "5 -0.479646  0.676435  1\n",
              "6 -0.013648  0.803349  1\n",
              "7  0.771513  0.147760  1\n",
              "8 -0.169322 -0.793456  1\n",
              "9 -0.121486  1.021509  0"
            ]
          },
          "execution_count": 4,
          "metadata": {},
          "output_type": "execute_result"
        }
      ],
      "source": [
        "# make dataframe of circle data\n",
        "\n",
        "import pandas as pd\n",
        "circles = pd.DataFrame({'X1' : X[:, 0],\n",
        "                        \"X2\" : X[:, 1],\n",
        "                        \"y\" : y})\n",
        "\n",
        "circles.head(10)"
      ]
    },
    {
      "cell_type": "code",
      "execution_count": 5,
      "metadata": {
        "colab": {
          "base_uri": "https://localhost:8080/",
          "height": 265
        },
        "id": "IteL15C0pZwx",
        "outputId": "986b3e37-0187-45cd-85b3-c4b051df8db1"
      },
      "outputs": [
        {
          "data": {
            "image/png": "[encoded data removed]",
            "text/plain": [
              "<Figure size 432x288 with 1 Axes>"
            ]
          },
          "metadata": {
            "needs_background": "light"
          },
          "output_type": "display_data"
        }
      ],
      "source": [
        "from matplotlib import pyplot as plt\n",
        "\n",
        "plt.scatter(x=X[:, 0],\n",
        "            y=X[:, 1],\n",
        "            c=y,\n",
        "            cmap=plt.cm.RdYlBu)\n",
        "plt.show()"
      ]
    },
    {
      "cell_type": "code",
      "execution_count": 6,
      "metadata": {
        "colab": {
          "base_uri": "https://localhost:8080/"
        },
        "id": "x6rtvZ2xprYx",
        "outputId": "72e9953d-a786-451c-884f-3a6d580177d8"
      },
      "outputs": [
        {
          "data": {
            "text/plain": [
              "((1000, 2), (1000,))"
            ]
          },
          "execution_count": 6,
          "metadata": {},
          "output_type": "execute_result"
        }
      ],
      "source": [
        "X.shape, y.shape"
      ]
    },
    {
      "cell_type": "markdown",
      "metadata": {
        "id": "cZplsV36q8_k"
      },
      "source": [
        "### 1.2 Turn data into Tensors"
      ]
    },
    {
      "cell_type": "code",
      "execution_count": 7,
      "metadata": {
        "colab": {
          "base_uri": "https://localhost:8080/",
          "height": 36
        },
        "id": "3kBq_QncqnIt",
        "outputId": "a30969c0-19c2-495e-b451-b868586a6b1b"
      },
      "outputs": [
        {
          "data": {
            "text/plain": [
              "'1.12.1+cu102'"
            ]
          },
          "execution_count": 7,
          "metadata": {},
          "output_type": "execute_result"
        }
      ],
      "source": [
        "import torch\n",
        "torch.__version__"
      ]
    },
    {
      "cell_type": "code",
      "execution_count": 8,
      "metadata": {
        "colab": {
          "base_uri": "https://localhost:8080/"
        },
        "id": "qM9bqoAvrOmv",
        "outputId": "af380c4a-41c1-4f99-e9ad-15d9a662e0c8"
      },
      "outputs": [
        {
          "data": {
            "text/plain": [
              "numpy.ndarray"
            ]
          },
          "execution_count": 8,
          "metadata": {},
          "output_type": "execute_result"
        }
      ],
      "source": [
        "type(X)"
      ]
    },
    {
      "cell_type": "code",
      "execution_count": 9,
      "metadata": {
        "id": "LeyPHfGmrHKY"
      },
      "outputs": [],
      "source": [
        "# convert to tensor\n",
        "\n",
        "# NOTE: As mentioned in the previous sessions, numpy default datatype is float64, where is Pytorch follows float32\n",
        "\n",
        "X = torch.from_numpy(X).type(torch.float)\n",
        "y = torch.from_numpy(y).type(torch.float)\n",
        "\n"
      ]
    },
    {
      "cell_type": "code",
      "execution_count": 10,
      "metadata": {
        "colab": {
          "base_uri": "https://localhost:8080/"
        },
        "id": "YmxEG_FOrv9R",
        "outputId": "d46c4c32-8ecd-4b45-ec3f-aef1627ee2ce"
      },
      "outputs": [
        {
          "data": {
            "text/plain": [
              "torch.Tensor"
            ]
          },
          "execution_count": 10,
          "metadata": {},
          "output_type": "execute_result"
        }
      ],
      "source": [
        "type(X)"
      ]
    },
    {
      "cell_type": "code",
      "execution_count": 11,
      "metadata": {
        "colab": {
          "base_uri": "https://localhost:8080/"
        },
        "id": "sj323eAFrxVR",
        "outputId": "6172fdcd-74a9-44d0-b6b2-31e87ce39fbd"
      },
      "outputs": [
        {
          "data": {
            "text/plain": [
              "(torch.Size([800, 2]),\n",
              " torch.Size([200, 2]),\n",
              " torch.Size([800]),\n",
              " torch.Size([200]))"
            ]
          },
          "execution_count": 11,
          "metadata": {},
          "output_type": "execute_result"
        }
      ],
      "source": [
        "from sklearn.model_selection import train_test_split\n",
        "\n",
        "X_train, X_test, y_train, y_test = train_test_split(X,\n",
        "                                                    y,\n",
        "                                                    test_size=0.2, #20% of test, 80% train\n",
        "                                                    random_state=42)\n",
        "\n",
        "X_train.shape, X_test.shape, y_train.shape, y_test.shape"
      ]
    },
    {
      "cell_type": "markdown",
      "metadata": {
        "id": "cYpAhBihtIjJ"
      },
      "source": [
        "## 2. Build a model"
      ]
    },
    {
      "cell_type": "code",
      "execution_count": 12,
      "metadata": {
        "colab": {
          "base_uri": "https://localhost:8080/",
          "height": 36
        },
        "id": "WLXPQs1MsuJT",
        "outputId": "2fb26d0f-9930-4644-b56f-1af849266fb9"
      },
      "outputs": [
        {
          "data": {
            "text/plain": [
              "'cpu'"
            ]
          },
          "execution_count": 12,
          "metadata": {},
          "output_type": "execute_result"
        }
      ],
      "source": [
        "from torch import nn\n",
        "\n",
        "device = 'cuda' if torch.cuda.is_available() else 'cpu'\n",
        "device"
      ]
    },
    {
      "cell_type": "code",
      "execution_count": 13,
      "metadata": {
        "id": "30pF6cCGteNr"
      },
      "outputs": [],
      "source": [
        "class CircleModel(nn.Module):\n",
        "  def __init__(self):\n",
        "    super().__init__()\n",
        "    self.layer_1 = nn.Linear(in_features=2, out_features=5)\n",
        "    self.layer_2 = nn.Linear(in_features=5, out_features=1)\n",
        "\n",
        "  def forward(self, x):\n",
        "    return self.layer_2(self.layer_1(x))\n",
        "\n",
        "\n",
        "model_0 = CircleModel().to(device)"
      ]
    },
    {
      "cell_type": "code",
      "execution_count": 14,
      "metadata": {
        "colab": {
          "base_uri": "https://localhost:8080/"
        },
        "id": "dJi_ZbLZwcaj",
        "outputId": "0760fed2-e32d-4bd6-95a3-0aa58e03a875"
      },
      "outputs": [
        {
          "data": {
            "text/plain": [
              "OrderedDict([('layer_1.weight',\n",
              "              tensor([[ 0.1440,  0.3288],\n",
              "                      [-0.0995,  0.5830],\n",
              "                      [ 0.2793,  0.1610],\n",
              "                      [ 0.0472,  0.4263],\n",
              "                      [-0.2548, -0.0821]])),\n",
              "             ('layer_1.bias',\n",
              "              tensor([ 0.3207, -0.6490, -0.1475, -0.2137, -0.6628])),\n",
              "             ('layer_2.weight',\n",
              "              tensor([[-0.0762,  0.1345, -0.1909,  0.0347, -0.2266]])),\n",
              "             ('layer_2.bias', tensor([0.1379]))])"
            ]
          },
          "execution_count": 14,
          "metadata": {},
          "output_type": "execute_result"
        }
      ],
      "source": [
        "# next(model.parameters())\n",
        "model_0.state_dict()\n"
      ]
    },
    {
      "cell_type": "code",
      "execution_count": 15,
      "metadata": {
        "colab": {
          "base_uri": "https://localhost:8080/"
        },
        "id": "tWZoPtqxwrKW",
        "outputId": "fbc36f42-943c-4c93-8cc0-8751998c2181"
      },
      "outputs": [
        {
          "data": {
            "text/plain": [
              "Sequential(\n",
              "  (0): Linear(in_features=2, out_features=5, bias=True)\n",
              "  (1): Linear(in_features=5, out_features=1, bias=True)\n",
              ")"
            ]
          },
          "execution_count": 15,
          "metadata": {},
          "output_type": "execute_result"
        }
      ],
      "source": [
        "# Replicate the model using Sequential \n",
        "# instead of using above code block which is class based, we can use the below code\n",
        "# NOTE: but only for simple implementation, class-based has more flexibility\n",
        "\n",
        "model_0_seq = nn.Sequential(\n",
        "    nn.Linear(in_features=2, out_features=5),\n",
        "    nn.Linear(in_features=5, out_features=1)\n",
        ").to(device)\n",
        "\n",
        "model_0_seq"
      ]
    },
    {
      "cell_type": "code",
      "execution_count": 16,
      "metadata": {
        "colab": {
          "base_uri": "https://localhost:8080/"
        },
        "id": "yYgmfOsQ2adu",
        "outputId": "40d688ec-e0cc-419c-9dfd-4023153efeae"
      },
      "outputs": [
        {
          "data": {
            "text/plain": [
              "OrderedDict([('0.weight', tensor([[ 0.3640,  0.1211],\n",
              "                      [ 0.1291,  0.1211],\n",
              "                      [-0.4344, -0.3945],\n",
              "                      [-0.2531,  0.1818],\n",
              "                      [ 0.1162, -0.1612]], device='cuda:0')),\n",
              "             ('0.bias',\n",
              "              tensor([ 0.1728,  0.3552, -0.4983, -0.4239, -0.0627], device='cuda:0')),\n",
              "             ('1.weight',\n",
              "              tensor([[ 0.2813,  0.4066,  0.0591,  0.1609, -0.4023]], device='cuda:0')),\n",
              "             ('1.bias', tensor([0.2132], device='cuda:0'))])"
            ]
          },
          "execution_count": 16,
          "metadata": {},
          "output_type": "execute_result"
        }
      ],
      "source": [
        "model_0_seq.state_dict()"
      ]
    },
    {
      "cell_type": "code",
      "execution_count": 15,
      "metadata": {
        "colab": {
          "base_uri": "https://localhost:8080/"
        },
        "id": "7seNirVN2gza",
        "outputId": "78d14f03-4337-4bfb-c3b6-3cff678c4db8"
      },
      "outputs": [
        {
          "data": {
            "text/plain": [
              "(tensor([[0.2423],\n",
              "         [0.2507],\n",
              "         [0.1924],\n",
              "         [0.2565],\n",
              "         [0.1481],\n",
              "         [0.1536],\n",
              "         [0.2123],\n",
              "         [0.1895],\n",
              "         [0.1943],\n",
              "         [0.2507]]),\n",
              " torch.Size([200, 1]))"
            ]
          },
          "execution_count": 15,
          "metadata": {},
          "output_type": "execute_result"
        }
      ],
      "source": [
        "# Make predictions\n",
        "\n",
        "with torch.inference_mode():\n",
        "  untrained_model = model_0(X_test.to(device))\n",
        "untrained_model[:10], untrained_model.shape"
      ]
    },
    {
      "cell_type": "markdown",
      "metadata": {
        "id": "W79ktg7R4UCR"
      },
      "source": [
        "# Next chapter: 69 | Loss, optimizer, ..."
      ]
    },
    {
      "cell_type": "code",
      "execution_count": 16,
      "metadata": {
        "id": "-uPKklp_3fnW"
      },
      "outputs": [],
      "source": [
        "# Loss and optimizer\n",
        "\n",
        "loss_fn = nn.BCEWithLogitsLoss() # sigmoid activation built-in\n",
        "\n",
        "optimizer = torch.optim.SGD(params=model_0.parameters(),\n",
        "                            lr = 0.1)"
      ]
    },
    {
      "cell_type": "code",
      "execution_count": 17,
      "metadata": {
        "id": "c9UrIRzRCyni"
      },
      "outputs": [],
      "source": [
        "def accuracy_fn(y_true, y_pred):\n",
        "  correct = torch.eq(y_true, y_pred).sum().item()\n",
        "  # Here .item() is used to convert tensor to scalar \n",
        "  acc = (correct/len(y_pred)) * 100\n",
        "  return acc"
      ]
    },
    {
      "cell_type": "markdown",
      "metadata": {
        "id": "AeBLwMcEDtIU"
      },
      "source": [
        "### Train model"
      ]
    },
    {
      "cell_type": "markdown",
      "metadata": {
        "id": "4raB-GbWELF-"
      },
      "source": [
        "Steps:\n",
        "\n",
        "1. Forward pass\n",
        "2. Calculate the loss\n",
        "3. Oprimizer zero grad\n",
        "4. Loss backward (backpropogation)\n",
        "5. Optimizer step (gradient step)"
      ]
    },
    {
      "cell_type": "markdown",
      "metadata": {
        "id": "8uIxoG1SESFW"
      },
      "source": [
        "Going from raw logits -> prediction probabilities -> prediction labels\n",
        "\n",
        "- We can convert **logits** into **prediction probabilities** by passing them to some kind of activation function (eg. sigmoid for binary classification and softmax for multiclass classification)\n",
        "- Then we can convert our model's prediction probabilities to prediction labels by either rounding them or taking the `argmax()`"
      ]
    },
    {
      "cell_type": "code",
      "execution_count": 19,
      "metadata": {
        "colab": {
          "base_uri": "https://localhost:8080/"
        },
        "id": "ASgkL2W2DYr9",
        "outputId": "ab2e9a4e-3548-4198-9850-4a4424b83d1f"
      },
      "outputs": [
        {
          "data": {
            "text/plain": [
              "tensor([[0.2423],\n",
              "        [0.2507],\n",
              "        [0.1924],\n",
              "        [0.2565],\n",
              "        [0.1481]])"
            ]
          },
          "execution_count": 19,
          "metadata": {},
          "output_type": "execute_result"
        }
      ],
      "source": [
        "model_0.eval()\n",
        "with torch.inference_mode():\n",
        "  y_logits = model_0(X_test.to(device))[:5]\n",
        "y_logits"
      ]
    },
    {
      "cell_type": "code",
      "execution_count": 20,
      "metadata": {
        "colab": {
          "base_uri": "https://localhost:8080/"
        },
        "id": "w7XPRKa_GE4L",
        "outputId": "b0d63c4d-5642-4693-977a-7ce6f350cdc0"
      },
      "outputs": [
        {
          "data": {
            "text/plain": [
              "tensor([1., 0., 1., 0., 1.])"
            ]
          },
          "execution_count": 20,
          "metadata": {},
          "output_type": "execute_result"
        }
      ],
      "source": [
        "# we need something like this\n",
        "y_test[:5]"
      ]
    },
    {
      "cell_type": "code",
      "execution_count": 21,
      "metadata": {
        "colab": {
          "base_uri": "https://localhost:8080/"
        },
        "id": "o4FthcE9Hrpx",
        "outputId": "737dabfd-78e8-451c-cd5a-4e4b3c11363c"
      },
      "outputs": [
        {
          "data": {
            "text/plain": [
              "tensor([[0.5603],\n",
              "        [0.5623],\n",
              "        [0.5479],\n",
              "        [0.5638],\n",
              "        [0.5370]])"
            ]
          },
          "execution_count": 21,
          "metadata": {},
          "output_type": "execute_result"
        }
      ],
      "source": [
        "# convert logits to probabilities\n",
        "y_pred_probs = torch.sigmoid(y_logits)\n",
        "y_pred_probs"
      ]
    },
    {
      "cell_type": "code",
      "execution_count": 22,
      "metadata": {
        "id": "CcWiJuBaH6NL"
      },
      "outputs": [
        {
          "data": {
            "text/plain": [
              "tensor([[1.],\n",
              "        [1.],\n",
              "        [1.],\n",
              "        [1.],\n",
              "        [1.]])"
            ]
          },
          "execution_count": 22,
          "metadata": {},
          "output_type": "execute_result"
        }
      ],
      "source": [
        "# convert probabilities to labels\n",
        "y_pred = torch.round(y_pred_probs)\n",
        "y_pred"
      ]
    },
    {
      "cell_type": "markdown",
      "metadata": {
        "id": "zkl5xegHJTrD"
      },
      "source": [
        "### Training loop"
      ]
    },
    {
      "cell_type": "code",
      "execution_count": 27,
      "metadata": {
        "colab": {
          "base_uri": "https://localhost:8080/"
        },
        "id": "UPPREZj3IMuE",
        "outputId": "0b87d82d-dce7-4e1b-a0eb-53fe827fbd3f"
      },
      "outputs": [
        {
          "name": "stdout",
          "output_type": "stream",
          "text": [
            "Epoch: 0 | Loss: 0.69315, Acc: 50.50% | Test loss: 0.69478, Test acc: 48.00%\n",
            "Epoch: 10 | Loss: 0.69314, Acc: 50.38% | Test loss: 0.69476, Test acc: 48.00%\n",
            "Epoch: 20 | Loss: 0.69313, Acc: 50.50% | Test loss: 0.69474, Test acc: 47.50%\n",
            "Epoch: 30 | Loss: 0.69312, Acc: 50.38% | Test loss: 0.69472, Test acc: 47.50%\n",
            "Epoch: 40 | Loss: 0.69312, Acc: 50.75% | Test loss: 0.69470, Test acc: 47.50%\n",
            "Epoch: 50 | Loss: 0.69311, Acc: 50.88% | Test loss: 0.69469, Test acc: 48.00%\n",
            "Epoch: 60 | Loss: 0.69310, Acc: 50.88% | Test loss: 0.69467, Test acc: 47.50%\n",
            "Epoch: 70 | Loss: 0.69310, Acc: 51.00% | Test loss: 0.69466, Test acc: 48.00%\n",
            "Epoch: 80 | Loss: 0.69309, Acc: 51.25% | Test loss: 0.69465, Test acc: 48.00%\n",
            "Epoch: 90 | Loss: 0.69309, Acc: 51.12% | Test loss: 0.69464, Test acc: 47.50%\n",
            "Epoch: 100 | Loss: 0.69308, Acc: 51.12% | Test loss: 0.69463, Test acc: 48.00%\n",
            "Epoch: 110 | Loss: 0.69308, Acc: 51.12% | Test loss: 0.69462, Test acc: 48.00%\n",
            "Epoch: 120 | Loss: 0.69307, Acc: 50.88% | Test loss: 0.69461, Test acc: 47.50%\n",
            "Epoch: 130 | Loss: 0.69307, Acc: 50.50% | Test loss: 0.69461, Test acc: 47.50%\n",
            "Epoch: 140 | Loss: 0.69307, Acc: 50.38% | Test loss: 0.69460, Test acc: 47.50%\n",
            "Epoch: 150 | Loss: 0.69306, Acc: 50.25% | Test loss: 0.69459, Test acc: 47.50%\n",
            "Epoch: 160 | Loss: 0.69306, Acc: 50.38% | Test loss: 0.69459, Test acc: 48.00%\n",
            "Epoch: 170 | Loss: 0.69305, Acc: 50.75% | Test loss: 0.69459, Test acc: 48.00%\n",
            "Epoch: 180 | Loss: 0.69305, Acc: 50.75% | Test loss: 0.69458, Test acc: 49.00%\n",
            "Epoch: 190 | Loss: 0.69305, Acc: 50.88% | Test loss: 0.69458, Test acc: 49.00%\n",
            "Epoch: 200 | Loss: 0.69305, Acc: 51.00% | Test loss: 0.69458, Test acc: 49.00%\n",
            "Epoch: 210 | Loss: 0.69304, Acc: 50.88% | Test loss: 0.69457, Test acc: 49.00%\n",
            "Epoch: 220 | Loss: 0.69304, Acc: 50.62% | Test loss: 0.69457, Test acc: 49.00%\n",
            "Epoch: 230 | Loss: 0.69304, Acc: 50.75% | Test loss: 0.69457, Test acc: 48.00%\n",
            "Epoch: 240 | Loss: 0.69303, Acc: 50.88% | Test loss: 0.69457, Test acc: 48.00%\n",
            "Epoch: 250 | Loss: 0.69303, Acc: 51.00% | Test loss: 0.69457, Test acc: 47.50%\n",
            "Epoch: 260 | Loss: 0.69303, Acc: 51.12% | Test loss: 0.69457, Test acc: 46.50%\n",
            "Epoch: 270 | Loss: 0.69303, Acc: 51.12% | Test loss: 0.69457, Test acc: 46.00%\n",
            "Epoch: 280 | Loss: 0.69303, Acc: 51.00% | Test loss: 0.69457, Test acc: 46.50%\n",
            "Epoch: 290 | Loss: 0.69302, Acc: 51.38% | Test loss: 0.69456, Test acc: 46.50%\n",
            "Epoch: 300 | Loss: 0.69302, Acc: 51.25% | Test loss: 0.69456, Test acc: 46.50%\n",
            "Epoch: 310 | Loss: 0.69302, Acc: 51.25% | Test loss: 0.69456, Test acc: 46.50%\n",
            "Epoch: 320 | Loss: 0.69302, Acc: 51.25% | Test loss: 0.69457, Test acc: 47.00%\n",
            "Epoch: 330 | Loss: 0.69302, Acc: 51.50% | Test loss: 0.69457, Test acc: 47.00%\n",
            "Epoch: 340 | Loss: 0.69302, Acc: 51.38% | Test loss: 0.69457, Test acc: 47.00%\n",
            "Epoch: 350 | Loss: 0.69301, Acc: 51.12% | Test loss: 0.69457, Test acc: 47.00%\n",
            "Epoch: 360 | Loss: 0.69301, Acc: 51.25% | Test loss: 0.69457, Test acc: 47.00%\n",
            "Epoch: 370 | Loss: 0.69301, Acc: 51.12% | Test loss: 0.69457, Test acc: 47.00%\n",
            "Epoch: 380 | Loss: 0.69301, Acc: 50.88% | Test loss: 0.69457, Test acc: 47.00%\n",
            "Epoch: 390 | Loss: 0.69301, Acc: 50.88% | Test loss: 0.69457, Test acc: 46.50%\n",
            "Epoch: 400 | Loss: 0.69301, Acc: 50.62% | Test loss: 0.69457, Test acc: 45.50%\n",
            "Epoch: 410 | Loss: 0.69301, Acc: 50.75% | Test loss: 0.69457, Test acc: 45.50%\n",
            "Epoch: 420 | Loss: 0.69301, Acc: 50.88% | Test loss: 0.69457, Test acc: 45.00%\n",
            "Epoch: 430 | Loss: 0.69300, Acc: 50.75% | Test loss: 0.69457, Test acc: 45.50%\n",
            "Epoch: 440 | Loss: 0.69300, Acc: 50.38% | Test loss: 0.69458, Test acc: 45.50%\n",
            "Epoch: 450 | Loss: 0.69300, Acc: 50.62% | Test loss: 0.69458, Test acc: 45.50%\n",
            "Epoch: 460 | Loss: 0.69300, Acc: 50.75% | Test loss: 0.69458, Test acc: 45.50%\n",
            "Epoch: 470 | Loss: 0.69300, Acc: 50.75% | Test loss: 0.69458, Test acc: 46.00%\n",
            "Epoch: 480 | Loss: 0.69300, Acc: 50.75% | Test loss: 0.69458, Test acc: 46.00%\n",
            "Epoch: 490 | Loss: 0.69300, Acc: 50.75% | Test loss: 0.69458, Test acc: 47.00%\n",
            "Epoch: 500 | Loss: 0.69300, Acc: 50.88% | Test loss: 0.69458, Test acc: 47.00%\n",
            "Epoch: 510 | Loss: 0.69300, Acc: 50.75% | Test loss: 0.69459, Test acc: 47.00%\n",
            "Epoch: 520 | Loss: 0.69300, Acc: 50.88% | Test loss: 0.69459, Test acc: 47.50%\n",
            "Epoch: 530 | Loss: 0.69300, Acc: 50.88% | Test loss: 0.69459, Test acc: 47.50%\n",
            "Epoch: 540 | Loss: 0.69300, Acc: 50.62% | Test loss: 0.69459, Test acc: 48.00%\n",
            "Epoch: 550 | Loss: 0.69299, Acc: 50.88% | Test loss: 0.69459, Test acc: 48.00%\n",
            "Epoch: 560 | Loss: 0.69299, Acc: 51.00% | Test loss: 0.69459, Test acc: 47.50%\n",
            "Epoch: 570 | Loss: 0.69299, Acc: 51.00% | Test loss: 0.69459, Test acc: 47.50%\n",
            "Epoch: 580 | Loss: 0.69299, Acc: 51.25% | Test loss: 0.69460, Test acc: 47.50%\n",
            "Epoch: 590 | Loss: 0.69299, Acc: 51.00% | Test loss: 0.69460, Test acc: 47.00%\n",
            "Epoch: 600 | Loss: 0.69299, Acc: 50.88% | Test loss: 0.69460, Test acc: 47.00%\n",
            "Epoch: 610 | Loss: 0.69299, Acc: 51.00% | Test loss: 0.69460, Test acc: 46.50%\n",
            "Epoch: 620 | Loss: 0.69299, Acc: 51.00% | Test loss: 0.69460, Test acc: 46.50%\n",
            "Epoch: 630 | Loss: 0.69299, Acc: 50.88% | Test loss: 0.69460, Test acc: 46.50%\n",
            "Epoch: 640 | Loss: 0.69299, Acc: 50.88% | Test loss: 0.69460, Test acc: 47.00%\n",
            "Epoch: 650 | Loss: 0.69299, Acc: 50.88% | Test loss: 0.69460, Test acc: 46.50%\n",
            "Epoch: 660 | Loss: 0.69299, Acc: 51.12% | Test loss: 0.69461, Test acc: 46.50%\n",
            "Epoch: 670 | Loss: 0.69299, Acc: 51.12% | Test loss: 0.69461, Test acc: 46.50%\n",
            "Epoch: 680 | Loss: 0.69299, Acc: 51.00% | Test loss: 0.69461, Test acc: 47.00%\n",
            "Epoch: 690 | Loss: 0.69299, Acc: 51.12% | Test loss: 0.69461, Test acc: 47.00%\n",
            "Epoch: 700 | Loss: 0.69299, Acc: 51.12% | Test loss: 0.69461, Test acc: 47.50%\n",
            "Epoch: 710 | Loss: 0.69299, Acc: 51.12% | Test loss: 0.69461, Test acc: 47.50%\n",
            "Epoch: 720 | Loss: 0.69299, Acc: 51.12% | Test loss: 0.69461, Test acc: 47.50%\n",
            "Epoch: 730 | Loss: 0.69299, Acc: 51.25% | Test loss: 0.69462, Test acc: 47.50%\n",
            "Epoch: 740 | Loss: 0.69299, Acc: 51.50% | Test loss: 0.69462, Test acc: 47.50%\n",
            "Epoch: 750 | Loss: 0.69299, Acc: 51.25% | Test loss: 0.69462, Test acc: 47.50%\n",
            "Epoch: 760 | Loss: 0.69299, Acc: 51.25% | Test loss: 0.69462, Test acc: 47.00%\n",
            "Epoch: 770 | Loss: 0.69299, Acc: 51.25% | Test loss: 0.69462, Test acc: 47.00%\n",
            "Epoch: 780 | Loss: 0.69299, Acc: 51.12% | Test loss: 0.69462, Test acc: 47.50%\n",
            "Epoch: 790 | Loss: 0.69299, Acc: 51.00% | Test loss: 0.69462, Test acc: 47.50%\n",
            "Epoch: 800 | Loss: 0.69298, Acc: 51.00% | Test loss: 0.69462, Test acc: 47.50%\n",
            "Epoch: 810 | Loss: 0.69298, Acc: 51.12% | Test loss: 0.69462, Test acc: 47.50%\n",
            "Epoch: 820 | Loss: 0.69298, Acc: 51.38% | Test loss: 0.69463, Test acc: 47.50%\n",
            "Epoch: 830 | Loss: 0.69298, Acc: 51.38% | Test loss: 0.69463, Test acc: 47.50%\n",
            "Epoch: 840 | Loss: 0.69298, Acc: 51.38% | Test loss: 0.69463, Test acc: 47.00%\n",
            "Epoch: 850 | Loss: 0.69298, Acc: 51.38% | Test loss: 0.69463, Test acc: 47.00%\n",
            "Epoch: 860 | Loss: 0.69298, Acc: 51.38% | Test loss: 0.69463, Test acc: 47.00%\n",
            "Epoch: 870 | Loss: 0.69298, Acc: 51.25% | Test loss: 0.69463, Test acc: 47.00%\n",
            "Epoch: 880 | Loss: 0.69298, Acc: 51.38% | Test loss: 0.69463, Test acc: 47.00%\n",
            "Epoch: 890 | Loss: 0.69298, Acc: 51.25% | Test loss: 0.69463, Test acc: 47.00%\n",
            "Epoch: 900 | Loss: 0.69298, Acc: 51.12% | Test loss: 0.69463, Test acc: 47.00%\n",
            "Epoch: 910 | Loss: 0.69298, Acc: 51.00% | Test loss: 0.69463, Test acc: 47.00%\n",
            "Epoch: 920 | Loss: 0.69298, Acc: 51.00% | Test loss: 0.69464, Test acc: 47.00%\n",
            "Epoch: 930 | Loss: 0.69298, Acc: 51.00% | Test loss: 0.69464, Test acc: 47.00%\n",
            "Epoch: 940 | Loss: 0.69298, Acc: 51.00% | Test loss: 0.69464, Test acc: 47.00%\n",
            "Epoch: 950 | Loss: 0.69298, Acc: 51.12% | Test loss: 0.69464, Test acc: 47.00%\n",
            "Epoch: 960 | Loss: 0.69298, Acc: 51.00% | Test loss: 0.69464, Test acc: 47.00%\n",
            "Epoch: 970 | Loss: 0.69298, Acc: 51.00% | Test loss: 0.69464, Test acc: 47.00%\n",
            "Epoch: 980 | Loss: 0.69298, Acc: 51.12% | Test loss: 0.69464, Test acc: 47.00%\n",
            "Epoch: 990 | Loss: 0.69298, Acc: 51.12% | Test loss: 0.69464, Test acc: 47.00%\n"
          ]
        }
      ],
      "source": [
        "torch.manual_seed(42)\n",
        "torch.cuda.manual_seed(42)\n",
        "\n",
        "epochs = 1000\n",
        "\n",
        "# Put data to target device\n",
        "X_train, y_train = X_train.to(device), y_train.to(device)\n",
        "X_test, y_test = X_test.to(device), y_test.to(device)\n",
        "\n",
        "# Build a training loop\n",
        "for epoch in range(epochs):\n",
        "  model_0.train()\n",
        "\n",
        "  # 1. Forward pass\n",
        "  y_logits = model_0(X_train).squeeze()\n",
        "  y_pred = torch.round(torch.sigmoid(y_logits))\n",
        "\n",
        "  # 2. Calc loss/acc\n",
        "  loss = loss_fn(y_logits, # because we are using BCEWithLogitsLoss\n",
        "                 y_train)\n",
        "  acc = accuracy_fn(y_true = y_train,\n",
        "                    y_pred = y_pred)\n",
        "\n",
        "  # 3. Zero grad\n",
        "  optimizer.zero_grad()\n",
        "\n",
        "  # 4. Loss backwards\n",
        "  loss.backward()\n",
        "\n",
        "  # 5. Optimizer step\n",
        "  optimizer.step()\n",
        "\n",
        "  # Testing\n",
        "  model_0.eval()\n",
        "  with torch.inference_mode():\n",
        "    # forward pass\n",
        "    test_logits = model_0(X_test).squeeze()\n",
        "    test_pred = torch.round(torch.sigmoid(test_logits))\n",
        "\n",
        "    # loss/acc\n",
        "    test_loss = loss_fn(test_logits,\n",
        "                        y_test)\n",
        "    test_acc = accuracy_fn(y_true = y_test,\n",
        "                           y_pred = test_pred)\n",
        "    \n",
        "  if epoch % 10 == 0:\n",
        "    print(f\"Epoch: {epoch} | Loss: {loss:.5f}, Acc: {acc:.2f}% | Test loss: {test_loss:.5f}, Test acc: {test_acc:.2f}%\")"
      ]
    },
    {
      "attachments": {},
      "cell_type": "markdown",
      "metadata": {
        "id": "imqzBUG6PKs6"
      },
      "source": [
        "### Make predictions and evaluate the model"
      ]
    },
    {
      "cell_type": "code",
      "execution_count": 28,
      "metadata": {
        "id": "Vh7bCUL0Kw6J"
      },
      "outputs": [
        {
          "name": "stdout",
          "output_type": "stream",
          "text": [
            "helper_functions.py already exists, skipping download\n"
          ]
        }
      ],
      "source": [
        "# from the result, it seems like model is not learning anything\n",
        "# so let's inspect the model\n",
        "\n",
        "import requests\n",
        "from pathlib import Path\n",
        "\n",
        "# Download helper function from Learn PyTorch repo\n",
        "if Path(\"helper_functions.py\").is_file():\n",
        "    print(\"helper_functions.py already exists, skipping download\")\n",
        "else:\n",
        "    print(\"Downloading helper_functions.py...\")\n",
        "    request = requests.get(\n",
        "        \"https://raw.githubusercontent.com/mrdbourke/pytorch-deep-learning/main/helper_functions.py\")\n",
        "    with open(\"helper_functions.py\", \"wb\") as f:\n",
        "        f.write(request.content)\n",
        "\n",
        "from helper_functions import plot_decision_boundary\n",
        "\n",
        "# You can see the helper_functions.py file in the left sidebar\n"
      ]
    },
    {
      "cell_type": "code",
      "execution_count": 29,
      "metadata": {},
      "outputs": [
        {
          "data": {
            "image/png": "[encoded data removed]",
            "text/plain": [
              "<Figure size 864x432 with 2 Axes>"
            ]
          },
          "metadata": {
            "needs_background": "light"
          },
          "output_type": "display_data"
        }
      ],
      "source": [
        "plt.figure(figsize=(12, 6))\n",
        "plt.subplot(1, 2, 1)\n",
        "plt.title(\"Train\")\n",
        "plot_decision_boundary(model_0, X_train, y_train)\n",
        "plt.subplot(1, 2, 2)\n",
        "plt.title(\"Test\")\n",
        "plot_decision_boundary(model_0, X_test, y_test)\n",
        "plt.show()"
      ]
    },
    {
      "attachments": {},
      "cell_type": "markdown",
      "metadata": {},
      "source": [
        "# Next chapter: 73 | Improving our model\n",
        "Link: https://www.youtube.com/watch?v=Z_ikDlimN6A&t=83869s"
      ]
    },
    {
      "cell_type": "code",
      "execution_count": null,
      "metadata": {},
      "outputs": [],
      "source": []
    }
  ],
  "metadata": {
    "accelerator": "GPU",
    "colab": {
      "authorship_tag": "ABX9TyOkqJAJlPYWHVBS1vtLWtjX",
      "include_colab_link": true,
      "provenance": [],
      "toc_visible": true
    },
    "gpuClass": "standard",
    "kernelspec": {
      "display_name": "Python 3",
      "name": "python3"
    },
    "language_info": {
      "codemirror_mode": {
        "name": "ipython",
        "version": 3
      },
      "file_extension": ".py",
      "mimetype": "text/x-python",
      "name": "python",
      "nbconvert_exporter": "python",
      "pygments_lexer": "ipython3",
      "version": "3.8.10"
    }
  },
  "nbformat": 4,
  "nbformat_minor": 0
}
